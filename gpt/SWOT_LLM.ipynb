{
 "cells": [
  {
   "cell_type": "markdown",
   "metadata": {},
   "source": [
    "test_data"
   ]
  },
  {
   "cell_type": "code",
   "execution_count": 28,
   "metadata": {},
   "outputs": [],
   "source": [
    "import pandas as pd\n",
    "\n",
    "coupang_3p = pd.read_excel(\"./test_data/(전달용) 쿠팡_리뷰 20240223 복사본.xlsx\", sheet_name=\"(RAW) 쿠팡_3P\")\n",
    "coupang_rocket = pd.read_excel(\"./test_data/(전달용) 쿠팡_리뷰 20240223 복사본.xlsx\", sheet_name=\"(RAW) 쿠팡_로켓\")"
   ]
  },
  {
   "cell_type": "code",
   "execution_count": 46,
   "metadata": {},
   "outputs": [
    {
     "name": "stdout",
     "output_type": "stream",
     "text": [
      "정제 후 총 리뷰 수: 3083\n",
      "정제 후 3P 리뷰 수: 2060\n",
      "정제 후 로켓 리뷰 수: 1053\n"
     ]
    }
   ],
   "source": [
    "# 3P 데이터에서 \"등록된 내용이 없습니다\" 제외하고 컬럼명 변경\n",
    "coupang_3p_cleaned = coupang_3p[coupang_3p['상품평 코멘트'] != '등록된 내용이 없습니다.'].rename(columns={'상품평 코멘트': '리뷰내용'})\n",
    "\n",
    "# 로켓 데이터에서 \"등록된 내용이 없습니다\" 제외\n",
    "coupang_rocket_cleaned = coupang_rocket[coupang_rocket['리뷰내용'] != '등록된 내용이 없습니다.']\n",
    "\n",
    "# 정제된 데이터 합치기\n",
    "combined_reviews = pd.concat([coupang_3p_cleaned, coupang_rocket_cleaned], ignore_index=True)\n",
    "\n",
    "combined_reviews = combined_reviews.dropna(subset='리뷰내용')\n",
    "\n",
    "# 결과 확인\n",
    "print(f\"정제 후 총 리뷰 수: {len(combined_reviews)}\")\n",
    "print(f\"정제 후 3P 리뷰 수: {len(coupang_3p_cleaned)}\")\n",
    "print(f\"정제 후 로켓 리뷰 수: {len(coupang_rocket_cleaned)}\")"
   ]
  },
  {
   "cell_type": "code",
   "execution_count": 65,
   "metadata": {},
   "outputs": [],
   "source": [
    "test_data = combined_reviews['리뷰내용'][:1000]"
   ]
  },
  {
   "cell_type": "code",
   "execution_count": 66,
   "metadata": {},
   "outputs": [],
   "source": [
    "# 줄바꿈으로 구분하여 합치기\n",
    "combined_text_newline = '\\n'.join(test_data)"
   ]
  },
  {
   "cell_type": "code",
   "execution_count": 67,
   "metadata": {},
   "outputs": [
    {
     "data": {
      "text/plain": [
       "True"
      ]
     },
     "execution_count": 67,
     "metadata": {},
     "output_type": "execute_result"
    }
   ],
   "source": [
    "# API 키를 환경변수로 관리하기 위한 설정 파일\n",
    "from dotenv import load_dotenv\n",
    "\n",
    "# API 키 정보 로드\n",
    "load_dotenv()"
   ]
  },
  {
   "cell_type": "code",
   "execution_count": 2,
   "metadata": {},
   "outputs": [],
   "source": [
    "# trie_chat_model\n",
    "from langchain.chat_models import ChatOpenAI\n",
    "\n",
    "# OutputParser\n",
    "from langchain.prompts import PromptTemplate\n",
    "from langchain.output_parsers import PydanticOutputParser\n",
    "from langchain_core.runnables import RunnablePassthrough\n",
    "from pydantic import BaseModel, Field\n",
    "from typing import List"
   ]
  },
  {
   "cell_type": "code",
   "execution_count": 3,
   "metadata": {},
   "outputs": [
    {
     "name": "stderr",
     "output_type": "stream",
     "text": [
      "/var/folders/m1/bqb2x_hs2p3c9xfm8sbxkgcr0000gn/T/ipykernel_75698/960742898.py:1: LangChainDeprecationWarning: The class `ChatOpenAI` was deprecated in LangChain 0.0.10 and will be removed in 1.0. An updated version of the class exists in the :class:`~langchain-openai package and should be used instead. To use it run `pip install -U :class:`~langchain-openai` and import as `from :class:`~langchain_openai import ChatOpenAI``.\n",
      "  swot_test_llm = ChatOpenAI(\n"
     ]
    }
   ],
   "source": [
    "swot_test_llm = ChatOpenAI(\n",
    "    temperature=0.5,  # 창의성\n",
    "    model_name=\"gpt-3.5-turbo\",  # 모델명\n",
    ")"
   ]
  },
  {
   "cell_type": "code",
   "execution_count": 84,
   "metadata": {},
   "outputs": [],
   "source": [
    "class SWOTKeywords(BaseModel):\n",
    "    strength_keyword: str = Field(description=\"제품의 경쟁 우위를 나타내는 긍정적인 키워드나 문구\")\n",
    "    weakness_keyword: str = Field(description=\"제품의 한계점이나 개선이 필요한 부분을 나타내는 키워드나 문구\")\n",
    "    opportunity_keyword: str = Field(description=\"리뷰를 통해 발견된 잠재적 성장 기회나 새로운 시장 기회를 나타내는 키워드나 문구\")\n",
    "    threat_keyword: str = Field(description=\"제품의 성공을 저해할 수 있는 우려사항이나 외부 위험 요소를 나타내는 키워드나 문구\")\n",
    "\n",
    "class SWOTResponse(BaseModel):\n",
    "    keywords: List[SWOTKeywords] = Field(description=\"리뷰 텍스트에서 SWOT 카테고리별로 추출된 키워드 리스트\")"
   ]
  },
  {
   "cell_type": "code",
   "execution_count": 85,
   "metadata": {},
   "outputs": [],
   "source": [
    "# 2. Parser 설정\n",
    "swot_parser = PydanticOutputParser(pydantic_object=SWOTResponse)"
   ]
  },
  {
   "cell_type": "code",
   "execution_count": 86,
   "metadata": {},
   "outputs": [],
   "source": [
    "swot_template = \"\"\"\n",
    "    다음 리뷰 텍스트를 분석하여 SWOT 분석을 수행하고, 정확히 아래 JSON 형식으로 출력해주세요.\n",
    "    분석이 어려운 카테고리가 있더라도 반드시 모든 필드를 포함해야 합니다.\n",
    "    키워드나 인사이트가 없는 경우 \"없음\" 또는 \"관련 내용 없음\"으로 표시해주세요.\n",
    "\n",
    "    분석할 리뷰 텍스트:\n",
    "    {review_text}\n",
    "\n",
    "    반드시 다음 형식의 JSON으로 출력해주세요:\n",
    "    {{\n",
    "        \"keywords\": [\n",
    "            {{\n",
    "                \"strength_keyword\": \"강점 키워드1\",\n",
    "                \"weakness_keyword\": \"약점 키워드1\",\n",
    "                \"opportunity_keyword\": \"기회 키워드1\",\n",
    "                \"threat_keyword\": \"위협 키워드1\"\n",
    "            }},\n",
    "            {{\n",
    "                \"strength_keyword\": \"강점 키워드2\",\n",
    "                \"weakness_keyword\": \"약점 키워드2\",\n",
    "                \"opportunity_keyword\": \"기회 키워드2\",\n",
    "                \"threat_keyword\": \"위협 키워드2\"\n",
    "            }}\n",
    "        ]\n",
    "    }}\n",
    "\n",
    "    주의사항:\n",
    "    1. 반드시 위의 JSON 형식을 정확히 따라주세요\n",
    "    2. 모든 필드는 필수이며, 값이 없는 경우 \"없음\"으로 표시\n",
    "    3. 다른 설명이나 부가 텍스트 없이 JSON만 출력\n",
    "    4. 실제 키워드는 한글로 작성\n",
    "\n",
    "    {format_instructions}\n",
    "    \"\"\""
   ]
  },
  {
   "cell_type": "code",
   "execution_count": 87,
   "metadata": {},
   "outputs": [],
   "source": [
    "swot_prompt = PromptTemplate(\n",
    "    template=swot_template,\n",
    "    input_variables=[\"review_text\"],\n",
    "    partial_variables={\"format_instructions\": swot_parser.get_format_instructions()}\n",
    ")"
   ]
  },
  {
   "cell_type": "code",
   "execution_count": 88,
   "metadata": {},
   "outputs": [],
   "source": [
    "swot_chain = (\n",
    "    swot_prompt\n",
    "    | swot_test_llm\n",
    "    | swot_parser\n",
    ")"
   ]
  },
  {
   "cell_type": "code",
   "execution_count": 90,
   "metadata": {},
   "outputs": [],
   "source": [
    "swot_response = swot_chain.invoke({\"review_text\": combined_text_newline})"
   ]
  },
  {
   "cell_type": "code",
   "execution_count": 95,
   "metadata": {},
   "outputs": [
    {
     "name": "stdout",
     "output_type": "stream",
     "text": [
      "\n",
      "=== SWOT 분석 결과 ===\n",
      "\n",
      "강점:\n",
      "- 하루 한 알 복용으로 편리함\n",
      "- 알 크기가 작음\n",
      "- 가격이 훨씬 착함\n",
      "- 개별 포장으로 위생적임\n",
      "- 가격이 합리적임\n",
      "\n",
      "약점:\n",
      "\n",
      "기회:\n",
      "- 온라인 구매 시 추가 할인 제공 등 프로모션 전략 개발 가능성\n",
      "- 개별 포장된 제품의 위생적 장점을 마케팅 포인트로 활용 가능\n",
      "- 건강보조식품 시장에서 젊은 층을 타겟팅한 광고 전략 개발 가능성\n",
      "\n",
      "위협:\n",
      "- 기존 브랜드에 대한 충성도 있는 고객층 존재 가능성\n",
      "- 경쟁사의 유사한 저렴한 제품 존재 가능성\n",
      "- 무료 샘플이나 경쟁사의 프로모션 활동\n"
     ]
    }
   ],
   "source": [
    "def collect_swot_keywords(swot_response):\n",
    "    # 각 카테고리별 키워드를 저장할 딕셔너리\n",
    "    collected = {\n",
    "        'strengths': [],\n",
    "        'weaknesses': [],\n",
    "        'opportunities': [],\n",
    "        'threats': []\n",
    "    }\n",
    "    \n",
    "    # 각 키워드 세트에서 카테고리별로 수집\n",
    "    for keyword_set in swot_response.keywords:\n",
    "        # 강점 수집\n",
    "        if keyword_set.strength_keyword and keyword_set.strength_keyword != \"없음\":\n",
    "            # 쉼표로 구분된 경우 분리\n",
    "            strengths = [s.strip() for s in keyword_set.strength_keyword.split(',')]\n",
    "            collected['strengths'].extend(strengths)\n",
    "        \n",
    "        # 약점 수집\n",
    "        if keyword_set.weakness_keyword and keyword_set.weakness_keyword != \"없음\":\n",
    "            weaknesses = [w.strip() for w in keyword_set.weakness_keyword.split(',')]\n",
    "            collected['weaknesses'].extend(weaknesses)\n",
    "            \n",
    "        # 기회 수집\n",
    "        if keyword_set.opportunity_keyword and keyword_set.opportunity_keyword != \"없음\":\n",
    "            opportunities = [o.strip() for o in keyword_set.opportunity_keyword.split(',')]\n",
    "            collected['opportunities'].extend(opportunities)\n",
    "            \n",
    "        # 위협 수집\n",
    "        if keyword_set.threat_keyword and keyword_set.threat_keyword != \"없음\":\n",
    "            threats = [t.strip() for t in keyword_set.threat_keyword.split(',')]\n",
    "            collected['threats'].extend(threats)\n",
    "    \n",
    "    # 중복 제거\n",
    "    collected = {k: list(set(v)) for k, v in collected.items()}\n",
    "    \n",
    "    return collected\n",
    "\n",
    "# 사용 예시\n",
    "result = collect_swot_keywords(swot_response)\n",
    "\n",
    "print(\"\\n=== SWOT 분석 결과 ===\")\n",
    "print(\"\\n강점:\")\n",
    "for strength in result['strengths']:\n",
    "    print(f\"- {strength}\")\n",
    "\n",
    "print(\"\\n약점:\")\n",
    "for weakness in result['weaknesses']:\n",
    "    print(f\"- {weakness}\")\n",
    "\n",
    "print(\"\\n기회:\")\n",
    "for opportunity in result['opportunities']:\n",
    "    print(f\"- {opportunity}\")\n",
    "\n",
    "print(\"\\n위협:\")\n",
    "for threat in result['threats']:\n",
    "    print(f\"- {threat}\")"
   ]
  },
  {
   "cell_type": "code",
   "execution_count": 97,
   "metadata": {},
   "outputs": [
    {
     "data": {
      "text/plain": [
       "{'strengths': ['하루 한 알 복용으로 편리함',\n",
       "  '알 크기가 작음',\n",
       "  '가격이 훨씬 착함',\n",
       "  '개별 포장으로 위생적임',\n",
       "  '가격이 합리적임'],\n",
       " 'weaknesses': [],\n",
       " 'opportunities': ['온라인 구매 시 추가 할인 제공 등 프로모션 전략 개발 가능성',\n",
       "  '개별 포장된 제품의 위생적 장점을 마케팅 포인트로 활용 가능',\n",
       "  '건강보조식품 시장에서 젊은 층을 타겟팅한 광고 전략 개발 가능성'],\n",
       " 'threats': ['기존 브랜드에 대한 충성도 있는 고객층 존재 가능성',\n",
       "  '경쟁사의 유사한 저렴한 제품 존재 가능성',\n",
       "  '무료 샘플이나 경쟁사의 프로모션 활동']}"
      ]
     },
     "execution_count": 97,
     "metadata": {},
     "output_type": "execute_result"
    }
   ],
   "source": [
    "result"
   ]
  },
  {
   "cell_type": "code",
   "execution_count": null,
   "metadata": {},
   "outputs": [],
   "source": []
  }
 ],
 "metadata": {
  "kernelspec": {
   "display_name": "mintrio",
   "language": "python",
   "name": "python3"
  },
  "language_info": {
   "codemirror_mode": {
    "name": "ipython",
    "version": 3
   },
   "file_extension": ".py",
   "mimetype": "text/x-python",
   "name": "python",
   "nbconvert_exporter": "python",
   "pygments_lexer": "ipython3",
   "version": "3.10.15"
  }
 },
 "nbformat": 4,
 "nbformat_minor": 2
}
