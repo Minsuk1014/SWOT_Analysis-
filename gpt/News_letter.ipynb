{
  "cells": [
    {
      "cell_type": "markdown",
      "metadata": {
        "id": "ITG3g3NM5GHT"
      },
      "source": [
        "## 라이브러리 설치"
      ]
    },
    {
      "cell_type": "code",
      "execution_count": 1,
      "metadata": {
        "colab": {
          "base_uri": "https://localhost:8080/"
        },
        "collapsed": true,
        "id": "YMxFP2vv5IUN",
        "outputId": "adccb89e-bb13-4ad7-b0c3-138aeefec840"
      },
      "outputs": [
        {
          "name": "stdout",
          "output_type": "stream",
          "text": [
            "Requirement already satisfied: langchain in /Users/jeon/.pyenv/versions/3.10.15/envs/mintrio/lib/python3.10/site-packages (0.3.7)\n",
            "Requirement already satisfied: langchain-core<0.4.0,>=0.3.15 in /Users/jeon/.pyenv/versions/3.10.15/envs/mintrio/lib/python3.10/site-packages (from langchain) (0.3.15)\n",
            "Requirement already satisfied: SQLAlchemy<3,>=1.4 in /Users/jeon/.pyenv/versions/3.10.15/envs/mintrio/lib/python3.10/site-packages (from langchain) (2.0.35)\n",
            "Requirement already satisfied: langchain-text-splitters<0.4.0,>=0.3.0 in /Users/jeon/.pyenv/versions/3.10.15/envs/mintrio/lib/python3.10/site-packages (from langchain) (0.3.2)\n",
            "Requirement already satisfied: langsmith<0.2.0,>=0.1.17 in /Users/jeon/.pyenv/versions/3.10.15/envs/mintrio/lib/python3.10/site-packages (from langchain) (0.1.140)\n",
            "Requirement already satisfied: pydantic<3.0.0,>=2.7.4 in /Users/jeon/.pyenv/versions/3.10.15/envs/mintrio/lib/python3.10/site-packages (from langchain) (2.8.2)\n",
            "Requirement already satisfied: requests<3,>=2 in /Users/jeon/.pyenv/versions/3.10.15/envs/mintrio/lib/python3.10/site-packages (from langchain) (2.32.3)\n",
            "Requirement already satisfied: aiohttp<4.0.0,>=3.8.3 in /Users/jeon/.pyenv/versions/3.10.15/envs/mintrio/lib/python3.10/site-packages (from langchain) (3.10.10)\n",
            "Requirement already satisfied: numpy<2,>=1 in /Users/jeon/.pyenv/versions/3.10.15/envs/mintrio/lib/python3.10/site-packages (from langchain) (1.26.4)\n",
            "Requirement already satisfied: tenacity!=8.4.0,<10,>=8.1.0 in /Users/jeon/.pyenv/versions/3.10.15/envs/mintrio/lib/python3.10/site-packages (from langchain) (9.0.0)\n",
            "Requirement already satisfied: PyYAML>=5.3 in /Users/jeon/.pyenv/versions/3.10.15/envs/mintrio/lib/python3.10/site-packages (from langchain) (6.0.2)\n",
            "Requirement already satisfied: async-timeout<5.0.0,>=4.0.0 in /Users/jeon/.pyenv/versions/3.10.15/envs/mintrio/lib/python3.10/site-packages (from langchain) (4.0.3)\n",
            "Requirement already satisfied: aiohappyeyeballs>=2.3.0 in /Users/jeon/.pyenv/versions/3.10.15/envs/mintrio/lib/python3.10/site-packages (from aiohttp<4.0.0,>=3.8.3->langchain) (2.4.3)\n",
            "Requirement already satisfied: attrs>=17.3.0 in /Users/jeon/.pyenv/versions/3.10.15/envs/mintrio/lib/python3.10/site-packages (from aiohttp<4.0.0,>=3.8.3->langchain) (24.2.0)\n",
            "Requirement already satisfied: multidict<7.0,>=4.5 in /Users/jeon/.pyenv/versions/3.10.15/envs/mintrio/lib/python3.10/site-packages (from aiohttp<4.0.0,>=3.8.3->langchain) (6.1.0)\n",
            "Requirement already satisfied: frozenlist>=1.1.1 in /Users/jeon/.pyenv/versions/3.10.15/envs/mintrio/lib/python3.10/site-packages (from aiohttp<4.0.0,>=3.8.3->langchain) (1.5.0)\n",
            "Requirement already satisfied: aiosignal>=1.1.2 in /Users/jeon/.pyenv/versions/3.10.15/envs/mintrio/lib/python3.10/site-packages (from aiohttp<4.0.0,>=3.8.3->langchain) (1.3.1)\n",
            "Requirement already satisfied: yarl<2.0,>=1.12.0 in /Users/jeon/.pyenv/versions/3.10.15/envs/mintrio/lib/python3.10/site-packages (from aiohttp<4.0.0,>=3.8.3->langchain) (1.17.1)\n",
            "Requirement already satisfied: packaging<25,>=23.2 in /Users/jeon/.pyenv/versions/3.10.15/envs/mintrio/lib/python3.10/site-packages (from langchain-core<0.4.0,>=0.3.15->langchain) (24.1)\n",
            "Requirement already satisfied: typing-extensions>=4.7 in /Users/jeon/.pyenv/versions/3.10.15/envs/mintrio/lib/python3.10/site-packages (from langchain-core<0.4.0,>=0.3.15->langchain) (4.12.2)\n",
            "Requirement already satisfied: jsonpatch<2.0,>=1.33 in /Users/jeon/.pyenv/versions/3.10.15/envs/mintrio/lib/python3.10/site-packages (from langchain-core<0.4.0,>=0.3.15->langchain) (1.33)\n",
            "Requirement already satisfied: httpx<1,>=0.23.0 in /Users/jeon/.pyenv/versions/3.10.15/envs/mintrio/lib/python3.10/site-packages (from langsmith<0.2.0,>=0.1.17->langchain) (0.27.2)\n",
            "Requirement already satisfied: orjson<4.0.0,>=3.9.14 in /Users/jeon/.pyenv/versions/3.10.15/envs/mintrio/lib/python3.10/site-packages (from langsmith<0.2.0,>=0.1.17->langchain) (3.10.11)\n",
            "Requirement already satisfied: requests-toolbelt<2.0.0,>=1.0.0 in /Users/jeon/.pyenv/versions/3.10.15/envs/mintrio/lib/python3.10/site-packages (from langsmith<0.2.0,>=0.1.17->langchain) (1.0.0)\n",
            "Requirement already satisfied: annotated-types>=0.4.0 in /Users/jeon/.pyenv/versions/3.10.15/envs/mintrio/lib/python3.10/site-packages (from pydantic<3.0.0,>=2.7.4->langchain) (0.7.0)\n",
            "Requirement already satisfied: pydantic-core==2.20.1 in /Users/jeon/.pyenv/versions/3.10.15/envs/mintrio/lib/python3.10/site-packages (from pydantic<3.0.0,>=2.7.4->langchain) (2.20.1)\n",
            "Requirement already satisfied: idna<4,>=2.5 in /Users/jeon/.pyenv/versions/3.10.15/envs/mintrio/lib/python3.10/site-packages (from requests<3,>=2->langchain) (3.10)\n",
            "Requirement already satisfied: charset-normalizer<4,>=2 in /Users/jeon/.pyenv/versions/3.10.15/envs/mintrio/lib/python3.10/site-packages (from requests<3,>=2->langchain) (3.4.0)\n",
            "Requirement already satisfied: certifi>=2017.4.17 in /Users/jeon/.pyenv/versions/3.10.15/envs/mintrio/lib/python3.10/site-packages (from requests<3,>=2->langchain) (2024.8.30)\n",
            "Requirement already satisfied: urllib3<3,>=1.21.1 in /Users/jeon/.pyenv/versions/3.10.15/envs/mintrio/lib/python3.10/site-packages (from requests<3,>=2->langchain) (2.2.3)\n",
            "Requirement already satisfied: httpcore==1.* in /Users/jeon/.pyenv/versions/3.10.15/envs/mintrio/lib/python3.10/site-packages (from httpx<1,>=0.23.0->langsmith<0.2.0,>=0.1.17->langchain) (1.0.6)\n",
            "Requirement already satisfied: anyio in /Users/jeon/.pyenv/versions/3.10.15/envs/mintrio/lib/python3.10/site-packages (from httpx<1,>=0.23.0->langsmith<0.2.0,>=0.1.17->langchain) (4.6.2.post1)\n",
            "Requirement already satisfied: sniffio in /Users/jeon/.pyenv/versions/3.10.15/envs/mintrio/lib/python3.10/site-packages (from httpx<1,>=0.23.0->langsmith<0.2.0,>=0.1.17->langchain) (1.3.1)\n",
            "Requirement already satisfied: h11<0.15,>=0.13 in /Users/jeon/.pyenv/versions/3.10.15/envs/mintrio/lib/python3.10/site-packages (from httpcore==1.*->httpx<1,>=0.23.0->langsmith<0.2.0,>=0.1.17->langchain) (0.14.0)\n",
            "Requirement already satisfied: jsonpointer>=1.9 in /Users/jeon/.pyenv/versions/3.10.15/envs/mintrio/lib/python3.10/site-packages (from jsonpatch<2.0,>=1.33->langchain-core<0.4.0,>=0.3.15->langchain) (3.0.0)\n",
            "Requirement already satisfied: propcache>=0.2.0 in /Users/jeon/.pyenv/versions/3.10.15/envs/mintrio/lib/python3.10/site-packages (from yarl<2.0,>=1.12.0->aiohttp<4.0.0,>=3.8.3->langchain) (0.2.0)\n",
            "Requirement already satisfied: exceptiongroup>=1.0.2 in /Users/jeon/.pyenv/versions/3.10.15/envs/mintrio/lib/python3.10/site-packages (from anyio->httpx<1,>=0.23.0->langsmith<0.2.0,>=0.1.17->langchain) (1.2.2)\n",
            "\n",
            "\u001b[1m[\u001b[0m\u001b[34;49mnotice\u001b[0m\u001b[1;39;49m]\u001b[0m\u001b[39;49m A new release of pip is available: \u001b[0m\u001b[31;49m23.0.1\u001b[0m\u001b[39;49m -> \u001b[0m\u001b[32;49m24.3.1\u001b[0m\n",
            "\u001b[1m[\u001b[0m\u001b[34;49mnotice\u001b[0m\u001b[1;39;49m]\u001b[0m\u001b[39;49m To update, run: \u001b[0m\u001b[32;49mpip install --upgrade pip\u001b[0m\n",
            "Requirement already satisfied: openai in /Users/jeon/.pyenv/versions/3.10.15/envs/mintrio/lib/python3.10/site-packages (1.54.1)\n",
            "Requirement already satisfied: jiter<1,>=0.4.0 in /Users/jeon/.pyenv/versions/3.10.15/envs/mintrio/lib/python3.10/site-packages (from openai) (0.7.0)\n",
            "Requirement already satisfied: sniffio in /Users/jeon/.pyenv/versions/3.10.15/envs/mintrio/lib/python3.10/site-packages (from openai) (1.3.1)\n",
            "Requirement already satisfied: distro<2,>=1.7.0 in /Users/jeon/.pyenv/versions/3.10.15/envs/mintrio/lib/python3.10/site-packages (from openai) (1.9.0)\n",
            "Requirement already satisfied: typing-extensions<5,>=4.11 in /Users/jeon/.pyenv/versions/3.10.15/envs/mintrio/lib/python3.10/site-packages (from openai) (4.12.2)\n",
            "Requirement already satisfied: pydantic<3,>=1.9.0 in /Users/jeon/.pyenv/versions/3.10.15/envs/mintrio/lib/python3.10/site-packages (from openai) (2.8.2)\n",
            "Requirement already satisfied: anyio<5,>=3.5.0 in /Users/jeon/.pyenv/versions/3.10.15/envs/mintrio/lib/python3.10/site-packages (from openai) (4.6.2.post1)\n",
            "Requirement already satisfied: tqdm>4 in /Users/jeon/.pyenv/versions/3.10.15/envs/mintrio/lib/python3.10/site-packages (from openai) (4.66.5)\n",
            "Requirement already satisfied: httpx<1,>=0.23.0 in /Users/jeon/.pyenv/versions/3.10.15/envs/mintrio/lib/python3.10/site-packages (from openai) (0.27.2)\n",
            "Requirement already satisfied: idna>=2.8 in /Users/jeon/.pyenv/versions/3.10.15/envs/mintrio/lib/python3.10/site-packages (from anyio<5,>=3.5.0->openai) (3.10)\n",
            "Requirement already satisfied: exceptiongroup>=1.0.2 in /Users/jeon/.pyenv/versions/3.10.15/envs/mintrio/lib/python3.10/site-packages (from anyio<5,>=3.5.0->openai) (1.2.2)\n",
            "Requirement already satisfied: certifi in /Users/jeon/.pyenv/versions/3.10.15/envs/mintrio/lib/python3.10/site-packages (from httpx<1,>=0.23.0->openai) (2024.8.30)\n",
            "Requirement already satisfied: httpcore==1.* in /Users/jeon/.pyenv/versions/3.10.15/envs/mintrio/lib/python3.10/site-packages (from httpx<1,>=0.23.0->openai) (1.0.6)\n",
            "Requirement already satisfied: h11<0.15,>=0.13 in /Users/jeon/.pyenv/versions/3.10.15/envs/mintrio/lib/python3.10/site-packages (from httpcore==1.*->httpx<1,>=0.23.0->openai) (0.14.0)\n",
            "Requirement already satisfied: pydantic-core==2.20.1 in /Users/jeon/.pyenv/versions/3.10.15/envs/mintrio/lib/python3.10/site-packages (from pydantic<3,>=1.9.0->openai) (2.20.1)\n",
            "Requirement already satisfied: annotated-types>=0.4.0 in /Users/jeon/.pyenv/versions/3.10.15/envs/mintrio/lib/python3.10/site-packages (from pydantic<3,>=1.9.0->openai) (0.7.0)\n",
            "\n",
            "\u001b[1m[\u001b[0m\u001b[34;49mnotice\u001b[0m\u001b[1;39;49m]\u001b[0m\u001b[39;49m A new release of pip is available: \u001b[0m\u001b[31;49m23.0.1\u001b[0m\u001b[39;49m -> \u001b[0m\u001b[32;49m24.3.1\u001b[0m\n",
            "\u001b[1m[\u001b[0m\u001b[34;49mnotice\u001b[0m\u001b[1;39;49m]\u001b[0m\u001b[39;49m To update, run: \u001b[0m\u001b[32;49mpip install --upgrade pip\u001b[0m\n",
            "\u001b[31mERROR: Could not find a version that satisfies the requirement sentence-transformer (from versions: none)\u001b[0m\u001b[31m\n",
            "\u001b[0m\u001b[31mERROR: No matching distribution found for sentence-transformer\u001b[0m\u001b[31m\n",
            "\u001b[0m\n",
            "\u001b[1m[\u001b[0m\u001b[34;49mnotice\u001b[0m\u001b[1;39;49m]\u001b[0m\u001b[39;49m A new release of pip is available: \u001b[0m\u001b[31;49m23.0.1\u001b[0m\u001b[39;49m -> \u001b[0m\u001b[32;49m24.3.1\u001b[0m\n",
            "\u001b[1m[\u001b[0m\u001b[34;49mnotice\u001b[0m\u001b[1;39;49m]\u001b[0m\u001b[39;49m To update, run: \u001b[0m\u001b[32;49mpip install --upgrade pip\u001b[0m\n",
            "Requirement already satisfied: langchain-community in /Users/jeon/.pyenv/versions/3.10.15/envs/mintrio/lib/python3.10/site-packages (0.3.5)\n",
            "Requirement already satisfied: httpx-sse<0.5.0,>=0.4.0 in /Users/jeon/.pyenv/versions/3.10.15/envs/mintrio/lib/python3.10/site-packages (from langchain-community) (0.4.0)\n",
            "Requirement already satisfied: requests<3,>=2 in /Users/jeon/.pyenv/versions/3.10.15/envs/mintrio/lib/python3.10/site-packages (from langchain-community) (2.32.3)\n",
            "Requirement already satisfied: SQLAlchemy<2.0.36,>=1.4 in /Users/jeon/.pyenv/versions/3.10.15/envs/mintrio/lib/python3.10/site-packages (from langchain-community) (2.0.35)\n",
            "Requirement already satisfied: langsmith<0.2.0,>=0.1.125 in /Users/jeon/.pyenv/versions/3.10.15/envs/mintrio/lib/python3.10/site-packages (from langchain-community) (0.1.140)\n",
            "Requirement already satisfied: langchain<0.4.0,>=0.3.6 in /Users/jeon/.pyenv/versions/3.10.15/envs/mintrio/lib/python3.10/site-packages (from langchain-community) (0.3.7)\n",
            "Requirement already satisfied: tenacity!=8.4.0,<10,>=8.1.0 in /Users/jeon/.pyenv/versions/3.10.15/envs/mintrio/lib/python3.10/site-packages (from langchain-community) (9.0.0)\n",
            "Requirement already satisfied: numpy<2,>=1 in /Users/jeon/.pyenv/versions/3.10.15/envs/mintrio/lib/python3.10/site-packages (from langchain-community) (1.26.4)\n",
            "Requirement already satisfied: aiohttp<4.0.0,>=3.8.3 in /Users/jeon/.pyenv/versions/3.10.15/envs/mintrio/lib/python3.10/site-packages (from langchain-community) (3.10.10)\n",
            "Requirement already satisfied: pydantic-settings<3.0.0,>=2.4.0 in /Users/jeon/.pyenv/versions/3.10.15/envs/mintrio/lib/python3.10/site-packages (from langchain-community) (2.6.1)\n",
            "Requirement already satisfied: PyYAML>=5.3 in /Users/jeon/.pyenv/versions/3.10.15/envs/mintrio/lib/python3.10/site-packages (from langchain-community) (6.0.2)\n",
            "Requirement already satisfied: langchain-core<0.4.0,>=0.3.15 in /Users/jeon/.pyenv/versions/3.10.15/envs/mintrio/lib/python3.10/site-packages (from langchain-community) (0.3.15)\n",
            "Requirement already satisfied: dataclasses-json<0.7,>=0.5.7 in /Users/jeon/.pyenv/versions/3.10.15/envs/mintrio/lib/python3.10/site-packages (from langchain-community) (0.6.7)\n",
            "Requirement already satisfied: multidict<7.0,>=4.5 in /Users/jeon/.pyenv/versions/3.10.15/envs/mintrio/lib/python3.10/site-packages (from aiohttp<4.0.0,>=3.8.3->langchain-community) (6.1.0)\n",
            "Requirement already satisfied: aiohappyeyeballs>=2.3.0 in /Users/jeon/.pyenv/versions/3.10.15/envs/mintrio/lib/python3.10/site-packages (from aiohttp<4.0.0,>=3.8.3->langchain-community) (2.4.3)\n",
            "Requirement already satisfied: frozenlist>=1.1.1 in /Users/jeon/.pyenv/versions/3.10.15/envs/mintrio/lib/python3.10/site-packages (from aiohttp<4.0.0,>=3.8.3->langchain-community) (1.5.0)\n",
            "Requirement already satisfied: aiosignal>=1.1.2 in /Users/jeon/.pyenv/versions/3.10.15/envs/mintrio/lib/python3.10/site-packages (from aiohttp<4.0.0,>=3.8.3->langchain-community) (1.3.1)\n",
            "Requirement already satisfied: yarl<2.0,>=1.12.0 in /Users/jeon/.pyenv/versions/3.10.15/envs/mintrio/lib/python3.10/site-packages (from aiohttp<4.0.0,>=3.8.3->langchain-community) (1.17.1)\n",
            "Requirement already satisfied: async-timeout<5.0,>=4.0 in /Users/jeon/.pyenv/versions/3.10.15/envs/mintrio/lib/python3.10/site-packages (from aiohttp<4.0.0,>=3.8.3->langchain-community) (4.0.3)\n",
            "Requirement already satisfied: attrs>=17.3.0 in /Users/jeon/.pyenv/versions/3.10.15/envs/mintrio/lib/python3.10/site-packages (from aiohttp<4.0.0,>=3.8.3->langchain-community) (24.2.0)\n",
            "Requirement already satisfied: typing-inspect<1,>=0.4.0 in /Users/jeon/.pyenv/versions/3.10.15/envs/mintrio/lib/python3.10/site-packages (from dataclasses-json<0.7,>=0.5.7->langchain-community) (0.9.0)\n",
            "Requirement already satisfied: marshmallow<4.0.0,>=3.18.0 in /Users/jeon/.pyenv/versions/3.10.15/envs/mintrio/lib/python3.10/site-packages (from dataclasses-json<0.7,>=0.5.7->langchain-community) (3.23.1)\n",
            "Requirement already satisfied: pydantic<3.0.0,>=2.7.4 in /Users/jeon/.pyenv/versions/3.10.15/envs/mintrio/lib/python3.10/site-packages (from langchain<0.4.0,>=0.3.6->langchain-community) (2.8.2)\n",
            "Requirement already satisfied: langchain-text-splitters<0.4.0,>=0.3.0 in /Users/jeon/.pyenv/versions/3.10.15/envs/mintrio/lib/python3.10/site-packages (from langchain<0.4.0,>=0.3.6->langchain-community) (0.3.2)\n",
            "Requirement already satisfied: typing-extensions>=4.7 in /Users/jeon/.pyenv/versions/3.10.15/envs/mintrio/lib/python3.10/site-packages (from langchain-core<0.4.0,>=0.3.15->langchain-community) (4.12.2)\n",
            "Requirement already satisfied: jsonpatch<2.0,>=1.33 in /Users/jeon/.pyenv/versions/3.10.15/envs/mintrio/lib/python3.10/site-packages (from langchain-core<0.4.0,>=0.3.15->langchain-community) (1.33)\n",
            "Requirement already satisfied: packaging<25,>=23.2 in /Users/jeon/.pyenv/versions/3.10.15/envs/mintrio/lib/python3.10/site-packages (from langchain-core<0.4.0,>=0.3.15->langchain-community) (24.1)\n",
            "Requirement already satisfied: orjson<4.0.0,>=3.9.14 in /Users/jeon/.pyenv/versions/3.10.15/envs/mintrio/lib/python3.10/site-packages (from langsmith<0.2.0,>=0.1.125->langchain-community) (3.10.11)\n",
            "Requirement already satisfied: httpx<1,>=0.23.0 in /Users/jeon/.pyenv/versions/3.10.15/envs/mintrio/lib/python3.10/site-packages (from langsmith<0.2.0,>=0.1.125->langchain-community) (0.27.2)\n",
            "Requirement already satisfied: requests-toolbelt<2.0.0,>=1.0.0 in /Users/jeon/.pyenv/versions/3.10.15/envs/mintrio/lib/python3.10/site-packages (from langsmith<0.2.0,>=0.1.125->langchain-community) (1.0.0)\n",
            "Requirement already satisfied: python-dotenv>=0.21.0 in /Users/jeon/.pyenv/versions/3.10.15/envs/mintrio/lib/python3.10/site-packages (from pydantic-settings<3.0.0,>=2.4.0->langchain-community) (1.0.1)\n",
            "Requirement already satisfied: certifi>=2017.4.17 in /Users/jeon/.pyenv/versions/3.10.15/envs/mintrio/lib/python3.10/site-packages (from requests<3,>=2->langchain-community) (2024.8.30)\n",
            "Requirement already satisfied: urllib3<3,>=1.21.1 in /Users/jeon/.pyenv/versions/3.10.15/envs/mintrio/lib/python3.10/site-packages (from requests<3,>=2->langchain-community) (2.2.3)\n",
            "Requirement already satisfied: idna<4,>=2.5 in /Users/jeon/.pyenv/versions/3.10.15/envs/mintrio/lib/python3.10/site-packages (from requests<3,>=2->langchain-community) (3.10)\n",
            "Requirement already satisfied: charset-normalizer<4,>=2 in /Users/jeon/.pyenv/versions/3.10.15/envs/mintrio/lib/python3.10/site-packages (from requests<3,>=2->langchain-community) (3.4.0)\n",
            "Requirement already satisfied: httpcore==1.* in /Users/jeon/.pyenv/versions/3.10.15/envs/mintrio/lib/python3.10/site-packages (from httpx<1,>=0.23.0->langsmith<0.2.0,>=0.1.125->langchain-community) (1.0.6)\n",
            "Requirement already satisfied: anyio in /Users/jeon/.pyenv/versions/3.10.15/envs/mintrio/lib/python3.10/site-packages (from httpx<1,>=0.23.0->langsmith<0.2.0,>=0.1.125->langchain-community) (4.6.2.post1)\n",
            "Requirement already satisfied: sniffio in /Users/jeon/.pyenv/versions/3.10.15/envs/mintrio/lib/python3.10/site-packages (from httpx<1,>=0.23.0->langsmith<0.2.0,>=0.1.125->langchain-community) (1.3.1)\n",
            "Requirement already satisfied: h11<0.15,>=0.13 in /Users/jeon/.pyenv/versions/3.10.15/envs/mintrio/lib/python3.10/site-packages (from httpcore==1.*->httpx<1,>=0.23.0->langsmith<0.2.0,>=0.1.125->langchain-community) (0.14.0)\n",
            "Requirement already satisfied: jsonpointer>=1.9 in /Users/jeon/.pyenv/versions/3.10.15/envs/mintrio/lib/python3.10/site-packages (from jsonpatch<2.0,>=1.33->langchain-core<0.4.0,>=0.3.15->langchain-community) (3.0.0)\n",
            "Requirement already satisfied: pydantic-core==2.20.1 in /Users/jeon/.pyenv/versions/3.10.15/envs/mintrio/lib/python3.10/site-packages (from pydantic<3.0.0,>=2.7.4->langchain<0.4.0,>=0.3.6->langchain-community) (2.20.1)\n",
            "Requirement already satisfied: annotated-types>=0.4.0 in /Users/jeon/.pyenv/versions/3.10.15/envs/mintrio/lib/python3.10/site-packages (from pydantic<3.0.0,>=2.7.4->langchain<0.4.0,>=0.3.6->langchain-community) (0.7.0)\n",
            "Requirement already satisfied: mypy-extensions>=0.3.0 in /Users/jeon/.pyenv/versions/3.10.15/envs/mintrio/lib/python3.10/site-packages (from typing-inspect<1,>=0.4.0->dataclasses-json<0.7,>=0.5.7->langchain-community) (1.0.0)\n",
            "Requirement already satisfied: propcache>=0.2.0 in /Users/jeon/.pyenv/versions/3.10.15/envs/mintrio/lib/python3.10/site-packages (from yarl<2.0,>=1.12.0->aiohttp<4.0.0,>=3.8.3->langchain-community) (0.2.0)\n",
            "Requirement already satisfied: exceptiongroup>=1.0.2 in /Users/jeon/.pyenv/versions/3.10.15/envs/mintrio/lib/python3.10/site-packages (from anyio->httpx<1,>=0.23.0->langsmith<0.2.0,>=0.1.125->langchain-community) (1.2.2)\n",
            "\n",
            "\u001b[1m[\u001b[0m\u001b[34;49mnotice\u001b[0m\u001b[1;39;49m]\u001b[0m\u001b[39;49m A new release of pip is available: \u001b[0m\u001b[31;49m23.0.1\u001b[0m\u001b[39;49m -> \u001b[0m\u001b[32;49m24.3.1\u001b[0m\n",
            "\u001b[1m[\u001b[0m\u001b[34;49mnotice\u001b[0m\u001b[1;39;49m]\u001b[0m\u001b[39;49m To update, run: \u001b[0m\u001b[32;49mpip install --upgrade pip\u001b[0m\n",
            "Collecting unstructured\n",
            "  Downloading unstructured-0.16.5-py3-none-any.whl (1.7 MB)\n",
            "\u001b[2K     \u001b[90m━━━━━━━━━━━━━━━━━━━━━━━━━━━━━━━━━━━━━━━━\u001b[0m \u001b[32m1.7/1.7 MB\u001b[0m \u001b[31m6.1 MB/s\u001b[0m eta \u001b[36m0:00:00\u001b[0ma \u001b[36m0:00:01\u001b[0m\n",
            "\u001b[?25hCollecting chardet\n",
            "  Downloading chardet-5.2.0-py3-none-any.whl (199 kB)\n",
            "\u001b[2K     \u001b[90m━━━━━━━━━━━━━━━━━━━━━━━━━━━━━━━━━━━━━━━\u001b[0m \u001b[32m199.4/199.4 kB\u001b[0m \u001b[31m7.5 MB/s\u001b[0m eta \u001b[36m0:00:00\u001b[0m\n",
            "\u001b[?25hRequirement already satisfied: wrapt in /Users/jeon/.pyenv/versions/3.10.15/envs/mintrio/lib/python3.10/site-packages (from unstructured) (1.16.0)\n",
            "Collecting html5lib\n",
            "  Downloading html5lib-1.1-py2.py3-none-any.whl (112 kB)\n",
            "\u001b[2K     \u001b[90m━━━━━━━━━━━━━━━━━━━━━━━━━━━━━━━━━━━━━━━\u001b[0m \u001b[32m112.2/112.2 kB\u001b[0m \u001b[31m7.1 MB/s\u001b[0m eta \u001b[36m0:00:00\u001b[0m\n",
            "\u001b[?25hCollecting python-oxmsg\n",
            "  Downloading python_oxmsg-0.0.1-py3-none-any.whl (31 kB)\n",
            "Requirement already satisfied: psutil in /Users/jeon/.pyenv/versions/3.10.15/envs/mintrio/lib/python3.10/site-packages (from unstructured) (6.1.0)\n",
            "Collecting backoff\n",
            "  Downloading backoff-2.2.1-py3-none-any.whl (15 kB)\n",
            "Requirement already satisfied: typing-extensions in /Users/jeon/.pyenv/versions/3.10.15/envs/mintrio/lib/python3.10/site-packages (from unstructured) (4.12.2)\n",
            "Collecting filetype\n",
            "  Downloading filetype-1.2.0-py2.py3-none-any.whl (19 kB)\n",
            "Requirement already satisfied: numpy<2 in /Users/jeon/.pyenv/versions/3.10.15/envs/mintrio/lib/python3.10/site-packages (from unstructured) (1.26.4)\n",
            "Requirement already satisfied: rapidfuzz in /Users/jeon/.pyenv/versions/3.10.15/envs/mintrio/lib/python3.10/site-packages (from unstructured) (3.9.2)\n",
            "Requirement already satisfied: tqdm in /Users/jeon/.pyenv/versions/3.10.15/envs/mintrio/lib/python3.10/site-packages (from unstructured) (4.66.5)\n",
            "Requirement already satisfied: beautifulsoup4 in /Users/jeon/.pyenv/versions/3.10.15/envs/mintrio/lib/python3.10/site-packages (from unstructured) (4.12.3)\n",
            "Collecting python-magic\n",
            "  Downloading python_magic-0.4.27-py2.py3-none-any.whl (13 kB)\n",
            "Collecting langdetect\n",
            "  Downloading langdetect-1.0.9.tar.gz (981 kB)\n",
            "\u001b[2K     \u001b[90m━━━━━━━━━━━━━━━━━━━━━━━━━━━━━━━━━━━━━━━\u001b[0m \u001b[32m981.5/981.5 kB\u001b[0m \u001b[31m9.6 MB/s\u001b[0m eta \u001b[36m0:00:00\u001b[0m00:01\u001b[0m00:01\u001b[0m\n",
            "\u001b[?25h  Preparing metadata (setup.py) ... \u001b[?25ldone\n",
            "\u001b[?25hCollecting unstructured-client\n",
            "  Downloading unstructured_client-0.27.0-py3-none-any.whl (59 kB)\n",
            "\u001b[2K     \u001b[90m━━━━━━━━━━━━━━━━━━━━━━━━━━━━━━━━━━━━━━━━\u001b[0m \u001b[32m59.9/59.9 kB\u001b[0m \u001b[31m4.4 MB/s\u001b[0m eta \u001b[36m0:00:00\u001b[0m\n",
            "\u001b[?25hRequirement already satisfied: lxml in /Users/jeon/.pyenv/versions/3.10.15/envs/mintrio/lib/python3.10/site-packages (from unstructured) (5.2.2)\n",
            "Requirement already satisfied: nltk in /Users/jeon/.pyenv/versions/3.10.15/envs/mintrio/lib/python3.10/site-packages (from unstructured) (3.9.1)\n",
            "Collecting python-iso639\n",
            "  Downloading python_iso639-2024.10.22-py3-none-any.whl (274 kB)\n",
            "\u001b[2K     \u001b[90m━━━━━━━━━━━━━━━━━━━━━━━━━━━━━━━━━━━━━━━\u001b[0m \u001b[32m274.9/274.9 kB\u001b[0m \u001b[31m7.4 MB/s\u001b[0m eta \u001b[36m0:00:00\u001b[0ma \u001b[36m0:00:01\u001b[0m\n",
            "\u001b[?25hCollecting emoji\n",
            "  Downloading emoji-2.14.0-py3-none-any.whl (586 kB)\n",
            "\u001b[2K     \u001b[90m━━━━━━━━━━━━━━━━━━━━━━━━━━━━━━━━━━━━━━━\u001b[0m \u001b[32m586.9/586.9 kB\u001b[0m \u001b[31m8.0 MB/s\u001b[0m eta \u001b[36m0:00:00\u001b[0ma \u001b[36m0:00:01\u001b[0m\n",
            "\u001b[?25hRequirement already satisfied: requests in /Users/jeon/.pyenv/versions/3.10.15/envs/mintrio/lib/python3.10/site-packages (from unstructured) (2.32.3)\n",
            "Requirement already satisfied: dataclasses-json in /Users/jeon/.pyenv/versions/3.10.15/envs/mintrio/lib/python3.10/site-packages (from unstructured) (0.6.7)\n",
            "Requirement already satisfied: soupsieve>1.2 in /Users/jeon/.pyenv/versions/3.10.15/envs/mintrio/lib/python3.10/site-packages (from beautifulsoup4->unstructured) (2.5)\n",
            "Requirement already satisfied: typing-inspect<1,>=0.4.0 in /Users/jeon/.pyenv/versions/3.10.15/envs/mintrio/lib/python3.10/site-packages (from dataclasses-json->unstructured) (0.9.0)\n",
            "Requirement already satisfied: marshmallow<4.0.0,>=3.18.0 in /Users/jeon/.pyenv/versions/3.10.15/envs/mintrio/lib/python3.10/site-packages (from dataclasses-json->unstructured) (3.23.1)\n",
            "Requirement already satisfied: webencodings in /Users/jeon/.pyenv/versions/3.10.15/envs/mintrio/lib/python3.10/site-packages (from html5lib->unstructured) (0.5.1)\n",
            "Requirement already satisfied: six>=1.9 in /Users/jeon/.pyenv/versions/3.10.15/envs/mintrio/lib/python3.10/site-packages (from html5lib->unstructured) (1.16.0)\n",
            "Requirement already satisfied: joblib in /Users/jeon/.pyenv/versions/3.10.15/envs/mintrio/lib/python3.10/site-packages (from nltk->unstructured) (1.4.2)\n",
            "Requirement already satisfied: click in /Users/jeon/.pyenv/versions/3.10.15/envs/mintrio/lib/python3.10/site-packages (from nltk->unstructured) (8.1.7)\n",
            "Requirement already satisfied: regex>=2021.8.3 in /Users/jeon/.pyenv/versions/3.10.15/envs/mintrio/lib/python3.10/site-packages (from nltk->unstructured) (2024.7.24)\n",
            "Collecting olefile\n",
            "  Downloading olefile-0.47-py2.py3-none-any.whl (114 kB)\n",
            "\u001b[2K     \u001b[90m━━━━━━━━━━━━━━━━━━━━━━━━━━━━━━━━━━━━━━━\u001b[0m \u001b[32m114.6/114.6 kB\u001b[0m \u001b[31m7.1 MB/s\u001b[0m eta \u001b[36m0:00:00\u001b[0m\n",
            "\u001b[?25hRequirement already satisfied: charset-normalizer<4,>=2 in /Users/jeon/.pyenv/versions/3.10.15/envs/mintrio/lib/python3.10/site-packages (from requests->unstructured) (3.4.0)\n",
            "Requirement already satisfied: urllib3<3,>=1.21.1 in /Users/jeon/.pyenv/versions/3.10.15/envs/mintrio/lib/python3.10/site-packages (from requests->unstructured) (2.2.3)\n",
            "Requirement already satisfied: idna<4,>=2.5 in /Users/jeon/.pyenv/versions/3.10.15/envs/mintrio/lib/python3.10/site-packages (from requests->unstructured) (3.10)\n",
            "Requirement already satisfied: certifi>=2017.4.17 in /Users/jeon/.pyenv/versions/3.10.15/envs/mintrio/lib/python3.10/site-packages (from requests->unstructured) (2024.8.30)\n",
            "Collecting pydantic<2.10.0,>=2.9.2\n",
            "  Downloading pydantic-2.9.2-py3-none-any.whl (434 kB)\n",
            "\u001b[2K     \u001b[90m━━━━━━━━━━━━━━━━━━━━━━━━━━━━━━━━━━━━━━━\u001b[0m \u001b[32m434.9/434.9 kB\u001b[0m \u001b[31m8.8 MB/s\u001b[0m eta \u001b[36m0:00:00\u001b[0ma \u001b[36m0:00:01\u001b[0m\n",
            "\u001b[?25hCollecting python-dateutil==2.8.2\n",
            "  Using cached python_dateutil-2.8.2-py2.py3-none-any.whl (247 kB)\n",
            "Collecting pypdf>=4.0\n",
            "  Downloading pypdf-5.1.0-py3-none-any.whl (297 kB)\n",
            "\u001b[2K     \u001b[90m━━━━━━━━━━━━━━━━━━━━━━━━━━━━━━━━━━━━━━━\u001b[0m \u001b[32m298.0/298.0 kB\u001b[0m \u001b[31m6.8 MB/s\u001b[0m eta \u001b[36m0:00:00\u001b[0ma \u001b[36m0:00:01\u001b[0m\n",
            "\u001b[?25hCollecting jsonpath-python<2.0.0,>=1.0.6\n",
            "  Downloading jsonpath_python-1.0.6-py3-none-any.whl (7.6 kB)\n",
            "Requirement already satisfied: httpx>=0.27.0 in /Users/jeon/.pyenv/versions/3.10.15/envs/mintrio/lib/python3.10/site-packages (from unstructured-client->unstructured) (0.27.2)\n",
            "Requirement already satisfied: requests-toolbelt>=1.0.0 in /Users/jeon/.pyenv/versions/3.10.15/envs/mintrio/lib/python3.10/site-packages (from unstructured-client->unstructured) (1.0.0)\n",
            "Collecting cryptography>=3.1\n",
            "  Downloading cryptography-43.0.3-cp39-abi3-macosx_10_9_universal2.whl (6.2 MB)\n",
            "\u001b[2K     \u001b[90m━━━━━━━━━━━━━━━━━━━━━━━━━━━━━━━━━━━━━━━━\u001b[0m \u001b[32m6.2/6.2 MB\u001b[0m \u001b[31m7.0 MB/s\u001b[0m eta \u001b[36m0:00:00\u001b[0ma \u001b[36m0:00:01\u001b[0m\n",
            "\u001b[?25hCollecting eval-type-backport<0.3.0,>=0.2.0\n",
            "  Downloading eval_type_backport-0.2.0-py3-none-any.whl (5.9 kB)\n",
            "Requirement already satisfied: nest-asyncio>=1.6.0 in /Users/jeon/.pyenv/versions/3.10.15/envs/mintrio/lib/python3.10/site-packages (from unstructured-client->unstructured) (1.6.0)\n",
            "Requirement already satisfied: cffi>=1.12 in /Users/jeon/.pyenv/versions/3.10.15/envs/mintrio/lib/python3.10/site-packages (from cryptography>=3.1->unstructured-client->unstructured) (1.17.1)\n",
            "Requirement already satisfied: anyio in /Users/jeon/.pyenv/versions/3.10.15/envs/mintrio/lib/python3.10/site-packages (from httpx>=0.27.0->unstructured-client->unstructured) (4.6.2.post1)\n",
            "Requirement already satisfied: sniffio in /Users/jeon/.pyenv/versions/3.10.15/envs/mintrio/lib/python3.10/site-packages (from httpx>=0.27.0->unstructured-client->unstructured) (1.3.1)\n",
            "Requirement already satisfied: httpcore==1.* in /Users/jeon/.pyenv/versions/3.10.15/envs/mintrio/lib/python3.10/site-packages (from httpx>=0.27.0->unstructured-client->unstructured) (1.0.6)\n",
            "Requirement already satisfied: h11<0.15,>=0.13 in /Users/jeon/.pyenv/versions/3.10.15/envs/mintrio/lib/python3.10/site-packages (from httpcore==1.*->httpx>=0.27.0->unstructured-client->unstructured) (0.14.0)\n",
            "Requirement already satisfied: packaging>=17.0 in /Users/jeon/.pyenv/versions/3.10.15/envs/mintrio/lib/python3.10/site-packages (from marshmallow<4.0.0,>=3.18.0->dataclasses-json->unstructured) (24.1)\n",
            "Requirement already satisfied: annotated-types>=0.6.0 in /Users/jeon/.pyenv/versions/3.10.15/envs/mintrio/lib/python3.10/site-packages (from pydantic<2.10.0,>=2.9.2->unstructured-client->unstructured) (0.7.0)\n",
            "Collecting pydantic-core==2.23.4\n",
            "  Downloading pydantic_core-2.23.4-cp310-cp310-macosx_11_0_arm64.whl (1.8 MB)\n",
            "\u001b[2K     \u001b[90m━━━━━━━━━━━━━━━━━━━━━━━━━━━━━━━━━━━━━━━━\u001b[0m \u001b[32m1.8/1.8 MB\u001b[0m \u001b[31m7.2 MB/s\u001b[0m eta \u001b[36m0:00:00\u001b[0ma \u001b[36m0:00:01\u001b[0m\n",
            "\u001b[?25hRequirement already satisfied: mypy-extensions>=0.3.0 in /Users/jeon/.pyenv/versions/3.10.15/envs/mintrio/lib/python3.10/site-packages (from typing-inspect<1,>=0.4.0->dataclasses-json->unstructured) (1.0.0)\n",
            "Requirement already satisfied: pycparser in /Users/jeon/.pyenv/versions/3.10.15/envs/mintrio/lib/python3.10/site-packages (from cffi>=1.12->cryptography>=3.1->unstructured-client->unstructured) (2.22)\n",
            "Requirement already satisfied: exceptiongroup>=1.0.2 in /Users/jeon/.pyenv/versions/3.10.15/envs/mintrio/lib/python3.10/site-packages (from anyio->httpx>=0.27.0->unstructured-client->unstructured) (1.2.2)\n",
            "Installing collected packages: filetype, python-magic, python-iso639, python-dateutil, pypdf, pydantic-core, olefile, langdetect, jsonpath-python, html5lib, eval-type-backport, emoji, chardet, backoff, python-oxmsg, pydantic, cryptography, unstructured-client, unstructured\n",
            "  Attempting uninstall: python-dateutil\n",
            "    Found existing installation: python-dateutil 2.9.0.post0\n",
            "    Uninstalling python-dateutil-2.9.0.post0:\n",
            "      Successfully uninstalled python-dateutil-2.9.0.post0\n",
            "  Attempting uninstall: pydantic-core\n",
            "    Found existing installation: pydantic_core 2.20.1\n",
            "    Uninstalling pydantic_core-2.20.1:\n",
            "      Successfully uninstalled pydantic_core-2.20.1\n",
            "\u001b[33m  DEPRECATION: langdetect is being installed using the legacy 'setup.py install' method, because it does not have a 'pyproject.toml' and the 'wheel' package is not installed. pip 23.1 will enforce this behaviour change. A possible replacement is to enable the '--use-pep517' option. Discussion can be found at https://github.com/pypa/pip/issues/8559\u001b[0m\u001b[33m\n",
            "\u001b[0m  Running setup.py install for langdetect ... \u001b[?25ldone\n",
            "\u001b[?25h  Attempting uninstall: pydantic\n",
            "    Found existing installation: pydantic 2.8.2\n",
            "    Uninstalling pydantic-2.8.2:\n",
            "      Successfully uninstalled pydantic-2.8.2\n",
            "Successfully installed backoff-2.2.1 chardet-5.2.0 cryptography-43.0.3 emoji-2.14.0 eval-type-backport-0.2.0 filetype-1.2.0 html5lib-1.1 jsonpath-python-1.0.6 langdetect-1.0.9 olefile-0.47 pydantic-2.9.2 pydantic-core-2.23.4 pypdf-5.1.0 python-dateutil-2.8.2 python-iso639-2024.10.22 python-magic-0.4.27 python-oxmsg-0.0.1 unstructured-0.16.5 unstructured-client-0.27.0\n",
            "\n",
            "\u001b[1m[\u001b[0m\u001b[34;49mnotice\u001b[0m\u001b[1;39;49m]\u001b[0m\u001b[39;49m A new release of pip is available: \u001b[0m\u001b[31;49m23.0.1\u001b[0m\u001b[39;49m -> \u001b[0m\u001b[32;49m24.3.1\u001b[0m\n",
            "\u001b[1m[\u001b[0m\u001b[34;49mnotice\u001b[0m\u001b[1;39;49m]\u001b[0m\u001b[39;49m To update, run: \u001b[0m\u001b[32;49mpip install --upgrade pip\u001b[0m\n",
            "\n",
            "\u001b[1m[\u001b[0m\u001b[34;49mnotice\u001b[0m\u001b[1;39;49m]\u001b[0m\u001b[39;49m A new release of pip is available: \u001b[0m\u001b[31;49m23.0.1\u001b[0m\u001b[39;49m -> \u001b[0m\u001b[32;49m24.3.1\u001b[0m\n",
            "\u001b[1m[\u001b[0m\u001b[34;49mnotice\u001b[0m\u001b[1;39;49m]\u001b[0m\u001b[39;49m To update, run: \u001b[0m\u001b[32;49mpip install --upgrade pip\u001b[0m\n"
          ]
        }
      ],
      "source": [
        "#언어모델을 활용한 어플리케이션 제작에 도움을 주는 프레임워크\n",
        "!pip install langchain\n",
        "\n",
        "#언어모델\n",
        "!pip install openai\n",
        "\n",
        "#문장을 벡터로 변환하는데 사용하는 라이브러리\n",
        "!pip install sentence-transformer\n",
        "\n",
        "#랭체인에서 제공하는 추가 기능\n",
        "!pip install -U langchain-community\n",
        "\n",
        "#비정형 데이터를 처리하고 구조화된 형태로 변환하는 데 사용됨\n",
        "!pip install unstructured\n",
        "\n",
        "#nltk 패키지 업데이트되면서 버전충돌때문에 난 에러이므로 3.8.1 < version으로 설치해야 함\n",
        "!pip install -U nltk>3.9"
      ]
    },
    {
      "cell_type": "code",
      "execution_count": 3,
      "metadata": {
        "id": "OfoR-EC7RSEs"
      },
      "outputs": [
        {
          "name": "stderr",
          "output_type": "stream",
          "text": [
            "[nltk_data] Downloading package punkt_tab to /Users/jeon/nltk_data...\n",
            "[nltk_data]   Unzipping tokenizers/punkt_tab.zip.\n"
          ]
        },
        {
          "data": {
            "text/plain": [
              "True"
            ]
          },
          "execution_count": 3,
          "metadata": {},
          "output_type": "execute_result"
        }
      ],
      "source": [
        "import nltk\n",
        "\n",
        "nltk.download('punkt_tab')"
      ]
    },
    {
      "cell_type": "code",
      "execution_count": 4,
      "metadata": {
        "id": "fVLj_wjwRUh-"
      },
      "outputs": [
        {
          "name": "stdout",
          "output_type": "stream",
          "text": [
            "3.9.1\n"
          ]
        }
      ],
      "source": [
        "import nltk\n",
        "print(nltk.__version__)"
      ]
    },
    {
      "cell_type": "code",
      "execution_count": 1,
      "metadata": {
        "colab": {
          "base_uri": "https://localhost:8080/"
        },
        "id": "mSt7kvj-yHyZ",
        "outputId": "bbc99a88-7689-43fc-afde-70a0affdaf3a"
      },
      "outputs": [
        {
          "name": "stdout",
          "output_type": "stream",
          "text": [
            "Requirement already satisfied: tiktoken in /Users/jeon/.pyenv/versions/3.10.15/envs/mintrio/lib/python3.10/site-packages (0.8.0)\n",
            "Requirement already satisfied: requests>=2.26.0 in /Users/jeon/.pyenv/versions/3.10.15/envs/mintrio/lib/python3.10/site-packages (from tiktoken) (2.32.3)\n",
            "Requirement already satisfied: regex>=2022.1.18 in /Users/jeon/.pyenv/versions/3.10.15/envs/mintrio/lib/python3.10/site-packages (from tiktoken) (2024.7.24)\n",
            "Requirement already satisfied: charset-normalizer<4,>=2 in /Users/jeon/.pyenv/versions/3.10.15/envs/mintrio/lib/python3.10/site-packages (from requests>=2.26.0->tiktoken) (3.4.0)\n",
            "Requirement already satisfied: urllib3<3,>=1.21.1 in /Users/jeon/.pyenv/versions/3.10.15/envs/mintrio/lib/python3.10/site-packages (from requests>=2.26.0->tiktoken) (2.2.3)\n",
            "Requirement already satisfied: idna<4,>=2.5 in /Users/jeon/.pyenv/versions/3.10.15/envs/mintrio/lib/python3.10/site-packages (from requests>=2.26.0->tiktoken) (3.10)\n",
            "Requirement already satisfied: certifi>=2017.4.17 in /Users/jeon/.pyenv/versions/3.10.15/envs/mintrio/lib/python3.10/site-packages (from requests>=2.26.0->tiktoken) (2024.8.30)\n",
            "\n",
            "\u001b[1m[\u001b[0m\u001b[34;49mnotice\u001b[0m\u001b[1;39;49m]\u001b[0m\u001b[39;49m A new release of pip is available: \u001b[0m\u001b[31;49m23.0.1\u001b[0m\u001b[39;49m -> \u001b[0m\u001b[32;49m24.3.1\u001b[0m\n",
            "\u001b[1m[\u001b[0m\u001b[34;49mnotice\u001b[0m\u001b[1;39;49m]\u001b[0m\u001b[39;49m To update, run: \u001b[0m\u001b[32;49mpip install --upgrade pip\u001b[0m\n",
            "Requirement already satisfied: faiss-cpu in /Users/jeon/.pyenv/versions/3.10.15/envs/mintrio/lib/python3.10/site-packages (1.9.0)\n",
            "Requirement already satisfied: packaging in /Users/jeon/.pyenv/versions/3.10.15/envs/mintrio/lib/python3.10/site-packages (from faiss-cpu) (24.1)\n",
            "Requirement already satisfied: numpy<3.0,>=1.25.0 in /Users/jeon/.pyenv/versions/3.10.15/envs/mintrio/lib/python3.10/site-packages (from faiss-cpu) (1.26.4)\n",
            "\n",
            "\u001b[1m[\u001b[0m\u001b[34;49mnotice\u001b[0m\u001b[1;39;49m]\u001b[0m\u001b[39;49m A new release of pip is available: \u001b[0m\u001b[31;49m23.0.1\u001b[0m\u001b[39;49m -> \u001b[0m\u001b[32;49m24.3.1\u001b[0m\n",
            "\u001b[1m[\u001b[0m\u001b[34;49mnotice\u001b[0m\u001b[1;39;49m]\u001b[0m\u001b[39;49m To update, run: \u001b[0m\u001b[32;49mpip install --upgrade pip\u001b[0m\n"
          ]
        }
      ],
      "source": [
        "#토큰화\n",
        "!pip install tiktoken\n",
        "\n",
        "#벡터검색, 유사도 검색\n",
        "!pip install faiss-cpu"
      ]
    },
    {
      "cell_type": "code",
      "execution_count": 2,
      "metadata": {
        "id": "iag5eEHC6z0R"
      },
      "outputs": [],
      "source": [
        "import os\n",
        "import openai\n",
        "\n",
        "import json\n",
        "import requests\n",
        "\n",
        "\n",
        "from langchain import LLMChain, OpenAI, PromptTemplate\n",
        "\n",
        "from langchain.chat_models import ChatOpenAI\n",
        "#검색을 통해 로드한 문서를 다룰 수 있도록 하는 라이브러리\n",
        "from langchain.document_loaders import UnstructuredURLLoader\n",
        "#가져온 텍스트를 가공\n",
        "from langchain.text_splitter import CharacterTextSplitter\n",
        "\n",
        "#임베딩, 벡터 스토어\n",
        "from langchain.embeddings.openai import OpenAIEmbeddings\n",
        "from langchain.vectorstores import FAISS\n",
        "\n",
        "#키워드를 검색할 수 있도록 한다.\n",
        "from langchain.utilities import GoogleSerperAPIWrapper"
      ]
    },
    {
      "cell_type": "code",
      "execution_count": 3,
      "metadata": {},
      "outputs": [
        {
          "data": {
            "text/plain": [
              "True"
            ]
          },
          "execution_count": 3,
          "metadata": {},
          "output_type": "execute_result"
        }
      ],
      "source": [
        "# 환경변수\n",
        "from dotenv import load_dotenv\n",
        "\n",
        "load_dotenv()"
      ]
    },
    {
      "cell_type": "code",
      "execution_count": 4,
      "metadata": {
        "colab": {
          "base_uri": "https://localhost:8080/"
        },
        "id": "TCefyyco9l9v",
        "outputId": "aa30a289-f795-49b0-a62e-69736fc5f0ba"
      },
      "outputs": [
        {
          "name": "stderr",
          "output_type": "stream",
          "text": [
            "/var/folders/m1/bqb2x_hs2p3c9xfm8sbxkgcr0000gn/T/ipykernel_71397/2497576997.py:1: LangChainDeprecationWarning: The class `OpenAIEmbeddings` was deprecated in LangChain 0.0.9 and will be removed in 1.0. An updated version of the class exists in the :class:`~langchain-openai package and should be used instead. To use it run `pip install -U :class:`~langchain-openai` and import as `from :class:`~langchain_openai import OpenAIEmbeddings``.\n",
            "  embeddings = OpenAIEmbeddings()\n"
          ]
        }
      ],
      "source": [
        "embeddings = OpenAIEmbeddings()"
      ]
    },
    {
      "cell_type": "code",
      "execution_count": 5,
      "metadata": {},
      "outputs": [],
      "source": [
        "# test_data\n",
        "\n",
        "prod_name = \"콴첼\"\n",
        "\n",
        "swot_result = {'strengths': ['하루 한 알 복용으로 편리함',\n",
        "  '알 크기가 작음',\n",
        "  '가격이 훨씬 착함',\n",
        "  '개별 포장으로 위생적임',\n",
        "  '가격이 합리적임'],\n",
        " 'weaknesses': [],\n",
        " 'opportunities': ['온라인 구매 시 추가 할인 제공 등 프로모션 전략 개발 가능성',\n",
        "  '개별 포장된 제품의 위생적 장점을 마케팅 포인트로 활용 가능',\n",
        "  '건강보조식품 시장에서 젊은 층을 타겟팅한 광고 전략 개발 가능성'],\n",
        " 'threats': ['기존 브랜드에 대한 충성도 있는 고객층 존재 가능성',\n",
        "  '경쟁사의 유사한 저렴한 제품 존재 가능성',\n",
        "  '무료 샘플이나 경쟁사의 프로모션 활동']}"
      ]
    },
    {
      "cell_type": "code",
      "execution_count": 6,
      "metadata": {},
      "outputs": [],
      "source": [
        "test_oppor = \" \".join(swot_result['opportunities'])"
      ]
    },
    {
      "cell_type": "code",
      "execution_count": 7,
      "metadata": {},
      "outputs": [],
      "source": [
        "test_threat = \" \".join(swot_result['threats'])"
      ]
    },
    {
      "cell_type": "markdown",
      "metadata": {
        "id": "hb2H2TtJ-LRP"
      },
      "source": [
        "## 1. 관련 아티클의 리스트를 요청"
      ]
    },
    {
      "cell_type": "code",
      "execution_count": 8,
      "metadata": {
        "id": "1lYb0Rw2-NMG"
      },
      "outputs": [],
      "source": [
        "def search_serp(query):\n",
        "  #k=몇 개의 리스트를 반환할 것인지\n",
        "  search = GoogleSerperAPIWrapper(k=5, type=\"search\")\n",
        "\n",
        "  response_json = search.results(query)\n",
        "  print(f\"Response ====> , {response_json}\")\n",
        "\n",
        "  return response_json"
      ]
    },
    {
      "cell_type": "markdown",
      "metadata": {
        "id": "4MaSdExC_QEv"
      },
      "source": [
        "## 2. 잘 맞는 아티클을 찾아서, URL을 리턴하도록 함"
      ]
    },
    {
      "cell_type": "code",
      "execution_count": 9,
      "metadata": {
        "id": "lOQbqyO2-4ji"
      },
      "outputs": [],
      "source": [
        "#LLM\n",
        "#결과가 n개 나오도록 하는 template 내용 주의!\n",
        "def pick_best_articles_urls(response_json, query):\n",
        "  response_str = json.dumps(response_json)\n",
        "\n",
        "  llm = ChatOpenAI(temperature=0.5)\n",
        "  template = \"\"\"\n",
        "    너는 소비자 트렌드와 시장 동향을 분석하는 전문 평론가야.\n",
        "    지금 분석 중인 상품 브랜드의 기회와 위협 요인에 관한 최신 뉴스나 아티클을 찾고 있어.\n",
        "\n",
        "    QUERY RESPONSE :{response_str}\n",
        "\n",
        "    위의 리스트는 쿼리 결과에 대한 검색 리스트야 {query}.\n",
        "\n",
        "    네가 생각하기에 쿼리의 주제를 잘 담고 있는 가장 훌륭한 3개의 아티클을 찾아봐.\n",
        "\n",
        "    return ONLY an array of urls.\n",
        "    also make sure the articles are recent and not too old.\n",
        "    if the file, or URL is invalid, show www.google.com\n",
        "\n",
        "    \"\"\"\n",
        "\n",
        "  prompt_template = PromptTemplate(input_variables=[\"response_str\", \"query\"], template = template)\n",
        "\n",
        "  article_chooser_chain = LLMChain(\n",
        "      llm=llm,\n",
        "      prompt=prompt_template,\n",
        "      verbose=True\n",
        "  )\n",
        "\n",
        "  urls = article_chooser_chain.run(response_str=response_str, query=query)\n",
        "  url_list = json.loads(urls)\n",
        "\n",
        "  print(url_list)\n",
        "  return url_list"
      ]
    },
    {
      "cell_type": "code",
      "execution_count": 10,
      "metadata": {},
      "outputs": [],
      "source": [
        "final_query_1 = f'상품명은 {prod_name}, 해당 상품의 {test_oppor}'"
      ]
    },
    {
      "cell_type": "code",
      "execution_count": 11,
      "metadata": {},
      "outputs": [],
      "source": [
        "final_query_2 = f'상품명은 {prod_name}, 해당 상품의 {test_threat}'"
      ]
    },
    {
      "cell_type": "code",
      "execution_count": 12,
      "metadata": {
        "colab": {
          "base_uri": "https://localhost:8080/"
        },
        "id": "dbOfTzlFB_IV",
        "outputId": "06517c83-4ff6-4d81-b010-b2287b29d93a"
      },
      "outputs": [
        {
          "name": "stdout",
          "output_type": "stream",
          "text": [
            "Response ====> , {'searchParameters': {'q': '상품명은 콴첼, 해당 상품의 온라인 구매 시 추가 할인 제공 등 프로모션 전략 개발 가능성 개별 포장된 제품의 위생적 장점을 마케팅 포인트로 활용 가능 건강보조식품 시장에서 젊은 층을 타겟팅한 광고 전략 개발 가능성', 'gl': 'us', 'hl': 'en', 'type': 'search', 'num': 5, 'engine': 'google'}, 'organic': [{'title': '상품 프로모션이란? 방법, 전략 및 예시 | 아마존 광고', 'link': 'https://advertising.amazon.com/ko-kr/library/guides/product-promotion', 'snippet': '상품 마케팅 전략의 핵심 요소인 상품 프로모션은 고객에게 상품 가치를 전달하여 매출을 늘리고 브랜드 충성도를 높이는 프로세스입니다. 마케팅 믹스의 4P 중 하나 ...', 'attributes': {'Missing': '상품명 콴첼, 해당 온라인 시 개발 개별 포장 위생적 장점 가능 건강'}, 'position': 1}, {'title': '온라인 스토어를 성장시키고 싶으신가요? 이커머스 전략에 추가할 수 ...', 'link': 'https://www.branchleafdigital.com/ko/want-to-grow-your-online-store-here-are-8-tactics-to-add-to-your-e-commerce-strategy/', 'snippet': '이커머스 비즈니스를 확장하는 것은 쉽지 않은 과정입니다. 이 문서에서는 성장 전략을 시작하는 데 유용한 8가지 전술을 소개합니다.', 'date': 'Jul 10, 2024', 'attributes': {'Missing': '상품명 콴첼, 상품 시 개별 위생적 장점 가능 건강'}, 'rating': 5, 'ratingCount': 10, 'position': 2}, {'title': '2022 프라임데이 - 광고 퍼포먼스 향상을 위한 최고의 마케팅 팁', 'link': 'https://advertising.amazon.com/ko-kr/library/guides/prime-day-marketing-tips-2022', 'snippet': '인지도와 친화력을 높이기 위해 브랜드 로고가 표시되어야 하며, 사용된 이미지가 선명하고 상품 또는 라이프스타일에 중점을 두어야 합니다. 상품을 가능한 한 식별 ...', 'attributes': {'Missing': '콴첼, 시 등 전략 개발 개별 포장 제품 위생적 장점 건강'}, 'position': 3}, {'title': '간단하지만 효과적인 자사몰 마케팅 전략 5가지 - 식스샵', 'link': 'https://www.sixshop.com/official-blog/%EA%B0%84%EB%8B%A8%ED%95%98%EC%A7%80%EB%A7%8C-%ED%9A%A8%EA%B3%BC%EC%A0%81%EC%9D%B8-%EC%9E%90%EC%82%AC%EB%AA%B0-%EB%A7%88%EC%BC%80%ED%8C%85-%EC%A0%84%EB%9E%B5-5%EA%B0%80%EC%A7%80', 'snippet': '고객이 특정 상품을 구매할 때 해당 상품의 상위 버전을 구매하게 하거나, 옵션을 통해 추가 제품을 더 구매하게 하는 것을 말해요. 예를 들면, 식품 ...', 'date': 'Mar 15, 2024', 'attributes': {'Missing': '상품명 콴첼, 개발 개별 포장 위생적 장점 건강'}, 'position': 4}], 'images': [{'title': '샵 팔로워를 늘리는 마케팅 전략 - Qoo10大学-ショップ運営ノウハウ', 'imageUrl': 'https://university.qoo10.jp/img/article/86/img_01.jpg', 'link': 'https://article-university.qoo10.jp/entry/86'}, {'title': '자사몰 매출 상승을 위해 마케터가 알아야 할 5가지 멤버십 마케팅 ...', 'imageUrl': 'https://framerusercontent.com/images/Tw5y2Tu3qvTJKjKquMzhFmBhoo.png', 'link': 'https://vircle.co.kr/blog/%EC%9E%90%EC%82%AC%EB%AA%B0-%EB%A7%A4%EC%B6%9C-%EC%83%81%EC%8A%B9-%EB%A9%A4%EB%B2%84%EC%8B%AD-%EB%A7%88%EC%BC%80%ED%8C%85-%EC%A0%84%EB%9E%B5'}, {'title': '프로모션 초반부엔 어떤 마케팅 전략이 효과적일까?', 'imageUrl': 'https://image.bigin.io/AXIs0uogRBM9j25g0O574Ha3', 'link': 'https://bigin.io/blog/detail?id=232&category=case'}, {'title': '구매전환율을 높이기 위한 전략 : 젠투', 'imageUrl': 'https://cdn.imweb.me/upload/S2023082997b4cb6bd5b11/75d5b779e12c3.jpg', 'link': 'http://www.gentooai.com/blog/?bmode=view&idx=17685262'}, {'title': '구매전환율을 높이기 위한 전략 : 젠투', 'imageUrl': 'https://cdn.imweb.me/upload/S2023082997b4cb6bd5b11/57cee88349950.jpg', 'link': 'http://www.gentooai.com/blog/?bmode=view&idx=17685262'}, {'title': \"지금 안 사면 놓친다!' 쇼핑몰 고객을 사로잡는 FOMO 마케팅 전략 | 식스샵\", 'imageUrl': 'https://static-sixshop2.s3.ap-northeast-2.amazonaws.com/images/blog/pro/20-02.jpg', 'link': 'https://www.sixshop.com/official-blog/%EC%A7%80%EA%B8%88-%EC%95%88-%EC%82%AC%EB%A9%B4-%EB%86%93%EC%B9%9C%EB%8B%A4-%EC%87%BC%ED%95%91%EB%AA%B0-%EA%B3%A0%EA%B0%9D%EC%9D%84-%EC%82%AC%EB%A1%9C%EC%9E%A1%EB%8A%94-FOMO-%EB%A7%88%EC%BC%80%ED%8C%85-%EC%A0%84%EB%9E%B5'}, {'title': '더 많은 돈을 지출하게 만드는 마케팅 전략 | ExpressVPN 블로그', 'imageUrl': 'https://s22908.pcdn.co/wp-content/uploads/2024/01/unnamed-9.jpeg', 'link': 'https://www.expressvpn.com/kr/blog/shopping-tricks-that-make-you-spend-more/'}, {'title': '샵 팔로워를 늘리는 마케팅 전략 - Qoo10大学-ショップ運営ノウハウ', 'imageUrl': 'https://university.qoo10.jp/img/article/86/img_17.webp', 'link': 'https://article-university.qoo10.jp/entry/86'}, {'title': '샵 팔로워를 늘리는 마케팅 전략 - Qoo10大学-ショップ運営ノウハウ', 'imageUrl': 'https://university.qoo10.jp/img/article/86/img_02.webp', 'link': 'https://article-university.qoo10.jp/entry/86'}], 'relatedSearches': [{'query': '프로모션 할인이란'}, {'query': '프로모션 성공사례'}, {'query': '프로모션 마케팅 차이'}, {'query': '프로모션 뜻'}, {'query': '프로모션 이벤트 뜻'}, {'query': '할인 프로모션'}, {'query': '프로모션 요금 뜻'}, {'query': '프로모션 종류'}], 'credits': 1}\n",
            "\n",
            "\n",
            "\u001b[1m> Entering new LLMChain chain...\u001b[0m\n",
            "Prompt after formatting:\n",
            "\u001b[32;1m\u001b[1;3m\n",
            "    너는 소비자 트렌드와 시장 동향을 분석하는 전문 평론가야.\n",
            "    지금 분석 중인 상품 브랜드의 기회와 위협 요인에 관한 최신 뉴스나 아티클을 찾고 있어.\n",
            "\n",
            "    QUERY RESPONSE :{\"searchParameters\": {\"q\": \"\\uc0c1\\ud488\\uba85\\uc740 \\ucf74\\uccbc, \\ud574\\ub2f9 \\uc0c1\\ud488\\uc758 \\uc628\\ub77c\\uc778 \\uad6c\\ub9e4 \\uc2dc \\ucd94\\uac00 \\ud560\\uc778 \\uc81c\\uacf5 \\ub4f1 \\ud504\\ub85c\\ubaa8\\uc158 \\uc804\\ub7b5 \\uac1c\\ubc1c \\uac00\\ub2a5\\uc131 \\uac1c\\ubcc4 \\ud3ec\\uc7a5\\ub41c \\uc81c\\ud488\\uc758 \\uc704\\uc0dd\\uc801 \\uc7a5\\uc810\\uc744 \\ub9c8\\ucf00\\ud305 \\ud3ec\\uc778\\ud2b8\\ub85c \\ud65c\\uc6a9 \\uac00\\ub2a5 \\uac74\\uac15\\ubcf4\\uc870\\uc2dd\\ud488 \\uc2dc\\uc7a5\\uc5d0\\uc11c \\uc80a\\uc740 \\uce35\\uc744 \\ud0c0\\uac9f\\ud305\\ud55c \\uad11\\uace0 \\uc804\\ub7b5 \\uac1c\\ubc1c \\uac00\\ub2a5\\uc131\", \"gl\": \"us\", \"hl\": \"en\", \"type\": \"search\", \"num\": 5, \"engine\": \"google\"}, \"organic\": [{\"title\": \"\\uc0c1\\ud488 \\ud504\\ub85c\\ubaa8\\uc158\\uc774\\ub780? \\ubc29\\ubc95, \\uc804\\ub7b5 \\ubc0f \\uc608\\uc2dc | \\uc544\\ub9c8\\uc874 \\uad11\\uace0\", \"link\": \"https://advertising.amazon.com/ko-kr/library/guides/product-promotion\", \"snippet\": \"\\uc0c1\\ud488 \\ub9c8\\ucf00\\ud305 \\uc804\\ub7b5\\uc758 \\ud575\\uc2ec \\uc694\\uc18c\\uc778 \\uc0c1\\ud488 \\ud504\\ub85c\\ubaa8\\uc158\\uc740 \\uace0\\uac1d\\uc5d0\\uac8c \\uc0c1\\ud488 \\uac00\\uce58\\ub97c \\uc804\\ub2ec\\ud558\\uc5ec \\ub9e4\\ucd9c\\uc744 \\ub298\\ub9ac\\uace0 \\ube0c\\ub79c\\ub4dc \\ucda9\\uc131\\ub3c4\\ub97c \\ub192\\uc774\\ub294 \\ud504\\ub85c\\uc138\\uc2a4\\uc785\\ub2c8\\ub2e4. \\ub9c8\\ucf00\\ud305 \\ubbf9\\uc2a4\\uc758 4P \\uc911 \\ud558\\ub098 ...\", \"attributes\": {\"Missing\": \"\\uc0c1\\ud488\\uba85 \\ucf74\\uccbc, \\ud574\\ub2f9 \\uc628\\ub77c\\uc778 \\uc2dc \\uac1c\\ubc1c \\uac1c\\ubcc4 \\ud3ec\\uc7a5 \\uc704\\uc0dd\\uc801 \\uc7a5\\uc810 \\uac00\\ub2a5 \\uac74\\uac15\"}, \"position\": 1}, {\"title\": \"\\uc628\\ub77c\\uc778 \\uc2a4\\ud1a0\\uc5b4\\ub97c \\uc131\\uc7a5\\uc2dc\\ud0a4\\uace0 \\uc2f6\\uc73c\\uc2e0\\uac00\\uc694? \\uc774\\ucee4\\uba38\\uc2a4 \\uc804\\ub7b5\\uc5d0 \\ucd94\\uac00\\ud560 \\uc218 ...\", \"link\": \"https://www.branchleafdigital.com/ko/want-to-grow-your-online-store-here-are-8-tactics-to-add-to-your-e-commerce-strategy/\", \"snippet\": \"\\uc774\\ucee4\\uba38\\uc2a4 \\ube44\\uc988\\ub2c8\\uc2a4\\ub97c \\ud655\\uc7a5\\ud558\\ub294 \\uac83\\uc740 \\uc27d\\uc9c0 \\uc54a\\uc740 \\uacfc\\uc815\\uc785\\ub2c8\\ub2e4. \\uc774 \\ubb38\\uc11c\\uc5d0\\uc11c\\ub294 \\uc131\\uc7a5 \\uc804\\ub7b5\\uc744 \\uc2dc\\uc791\\ud558\\ub294 \\ub370 \\uc720\\uc6a9\\ud55c 8\\uac00\\uc9c0 \\uc804\\uc220\\uc744 \\uc18c\\uac1c\\ud569\\ub2c8\\ub2e4.\", \"date\": \"Jul 10, 2024\", \"attributes\": {\"Missing\": \"\\uc0c1\\ud488\\uba85 \\ucf74\\uccbc, \\uc0c1\\ud488 \\uc2dc \\uac1c\\ubcc4 \\uc704\\uc0dd\\uc801 \\uc7a5\\uc810 \\uac00\\ub2a5 \\uac74\\uac15\"}, \"rating\": 5, \"ratingCount\": 10, \"position\": 2}, {\"title\": \"2022 \\ud504\\ub77c\\uc784\\ub370\\uc774 - \\uad11\\uace0 \\ud37c\\ud3ec\\uba3c\\uc2a4 \\ud5a5\\uc0c1\\uc744 \\uc704\\ud55c \\ucd5c\\uace0\\uc758 \\ub9c8\\ucf00\\ud305 \\ud301\", \"link\": \"https://advertising.amazon.com/ko-kr/library/guides/prime-day-marketing-tips-2022\", \"snippet\": \"\\uc778\\uc9c0\\ub3c4\\uc640 \\uce5c\\ud654\\ub825\\uc744 \\ub192\\uc774\\uae30 \\uc704\\ud574 \\ube0c\\ub79c\\ub4dc \\ub85c\\uace0\\uac00 \\ud45c\\uc2dc\\ub418\\uc5b4\\uc57c \\ud558\\uba70, \\uc0ac\\uc6a9\\ub41c \\uc774\\ubbf8\\uc9c0\\uac00 \\uc120\\uba85\\ud558\\uace0 \\uc0c1\\ud488 \\ub610\\ub294 \\ub77c\\uc774\\ud504\\uc2a4\\ud0c0\\uc77c\\uc5d0 \\uc911\\uc810\\uc744 \\ub450\\uc5b4\\uc57c \\ud569\\ub2c8\\ub2e4. \\uc0c1\\ud488\\uc744 \\uac00\\ub2a5\\ud55c \\ud55c \\uc2dd\\ubcc4 ...\", \"attributes\": {\"Missing\": \"\\ucf74\\uccbc, \\uc2dc \\ub4f1 \\uc804\\ub7b5 \\uac1c\\ubc1c \\uac1c\\ubcc4 \\ud3ec\\uc7a5 \\uc81c\\ud488 \\uc704\\uc0dd\\uc801 \\uc7a5\\uc810 \\uac74\\uac15\"}, \"position\": 3}, {\"title\": \"\\uac04\\ub2e8\\ud558\\uc9c0\\ub9cc \\ud6a8\\uacfc\\uc801\\uc778 \\uc790\\uc0ac\\ubab0 \\ub9c8\\ucf00\\ud305 \\uc804\\ub7b5 5\\uac00\\uc9c0 - \\uc2dd\\uc2a4\\uc0f5\", \"link\": \"https://www.sixshop.com/official-blog/%EA%B0%84%EB%8B%A8%ED%95%98%EC%A7%80%EB%A7%8C-%ED%9A%A8%EA%B3%BC%EC%A0%81%EC%9D%B8-%EC%9E%90%EC%82%AC%EB%AA%B0-%EB%A7%88%EC%BC%80%ED%8C%85-%EC%A0%84%EB%9E%B5-5%EA%B0%80%EC%A7%80\", \"snippet\": \"\\uace0\\uac1d\\uc774 \\ud2b9\\uc815 \\uc0c1\\ud488\\uc744 \\uad6c\\ub9e4\\ud560 \\ub54c \\ud574\\ub2f9 \\uc0c1\\ud488\\uc758 \\uc0c1\\uc704 \\ubc84\\uc804\\uc744 \\uad6c\\ub9e4\\ud558\\uac8c \\ud558\\uac70\\ub098, \\uc635\\uc158\\uc744 \\ud1b5\\ud574 \\ucd94\\uac00 \\uc81c\\ud488\\uc744 \\ub354 \\uad6c\\ub9e4\\ud558\\uac8c \\ud558\\ub294 \\uac83\\uc744 \\ub9d0\\ud574\\uc694. \\uc608\\ub97c \\ub4e4\\uba74, \\uc2dd\\ud488 ...\", \"date\": \"Mar 15, 2024\", \"attributes\": {\"Missing\": \"\\uc0c1\\ud488\\uba85 \\ucf74\\uccbc, \\uac1c\\ubc1c \\uac1c\\ubcc4 \\ud3ec\\uc7a5 \\uc704\\uc0dd\\uc801 \\uc7a5\\uc810 \\uac74\\uac15\"}, \"position\": 4}], \"images\": [{\"title\": \"\\uc0f5 \\ud314\\ub85c\\uc6cc\\ub97c \\ub298\\ub9ac\\ub294 \\ub9c8\\ucf00\\ud305 \\uc804\\ub7b5 - Qoo10\\u5927\\u5b66-\\u30b7\\u30e7\\u30c3\\u30d7\\u904b\\u55b6\\u30ce\\u30a6\\u30cf\\u30a6\", \"imageUrl\": \"https://university.qoo10.jp/img/article/86/img_01.jpg\", \"link\": \"https://article-university.qoo10.jp/entry/86\"}, {\"title\": \"\\uc790\\uc0ac\\ubab0 \\ub9e4\\ucd9c \\uc0c1\\uc2b9\\uc744 \\uc704\\ud574 \\ub9c8\\ucf00\\ud130\\uac00 \\uc54c\\uc544\\uc57c \\ud560 5\\uac00\\uc9c0 \\uba64\\ubc84\\uc2ed \\ub9c8\\ucf00\\ud305 ...\", \"imageUrl\": \"https://framerusercontent.com/images/Tw5y2Tu3qvTJKjKquMzhFmBhoo.png\", \"link\": \"https://vircle.co.kr/blog/%EC%9E%90%EC%82%AC%EB%AA%B0-%EB%A7%A4%EC%B6%9C-%EC%83%81%EC%8A%B9-%EB%A9%A4%EB%B2%84%EC%8B%AD-%EB%A7%88%EC%BC%80%ED%8C%85-%EC%A0%84%EB%9E%B5\"}, {\"title\": \"\\ud504\\ub85c\\ubaa8\\uc158 \\ucd08\\ubc18\\ubd80\\uc5d4 \\uc5b4\\ub5a4 \\ub9c8\\ucf00\\ud305 \\uc804\\ub7b5\\uc774 \\ud6a8\\uacfc\\uc801\\uc77c\\uae4c?\", \"imageUrl\": \"https://image.bigin.io/AXIs0uogRBM9j25g0O574Ha3\", \"link\": \"https://bigin.io/blog/detail?id=232&category=case\"}, {\"title\": \"\\uad6c\\ub9e4\\uc804\\ud658\\uc728\\uc744 \\ub192\\uc774\\uae30 \\uc704\\ud55c \\uc804\\ub7b5 : \\uc820\\ud22c\", \"imageUrl\": \"https://cdn.imweb.me/upload/S2023082997b4cb6bd5b11/75d5b779e12c3.jpg\", \"link\": \"http://www.gentooai.com/blog/?bmode=view&idx=17685262\"}, {\"title\": \"\\uad6c\\ub9e4\\uc804\\ud658\\uc728\\uc744 \\ub192\\uc774\\uae30 \\uc704\\ud55c \\uc804\\ub7b5 : \\uc820\\ud22c\", \"imageUrl\": \"https://cdn.imweb.me/upload/S2023082997b4cb6bd5b11/57cee88349950.jpg\", \"link\": \"http://www.gentooai.com/blog/?bmode=view&idx=17685262\"}, {\"title\": \"\\uc9c0\\uae08 \\uc548 \\uc0ac\\uba74 \\ub193\\uce5c\\ub2e4!' \\uc1fc\\ud551\\ubab0 \\uace0\\uac1d\\uc744 \\uc0ac\\ub85c\\uc7a1\\ub294 FOMO \\ub9c8\\ucf00\\ud305 \\uc804\\ub7b5 | \\uc2dd\\uc2a4\\uc0f5\", \"imageUrl\": \"https://static-sixshop2.s3.ap-northeast-2.amazonaws.com/images/blog/pro/20-02.jpg\", \"link\": \"https://www.sixshop.com/official-blog/%EC%A7%80%EA%B8%88-%EC%95%88-%EC%82%AC%EB%A9%B4-%EB%86%93%EC%B9%9C%EB%8B%A4-%EC%87%BC%ED%95%91%EB%AA%B0-%EA%B3%A0%EA%B0%9D%EC%9D%84-%EC%82%AC%EB%A1%9C%EC%9E%A1%EB%8A%94-FOMO-%EB%A7%88%EC%BC%80%ED%8C%85-%EC%A0%84%EB%9E%B5\"}, {\"title\": \"\\ub354 \\ub9ce\\uc740 \\ub3c8\\uc744 \\uc9c0\\ucd9c\\ud558\\uac8c \\ub9cc\\ub4dc\\ub294 \\ub9c8\\ucf00\\ud305 \\uc804\\ub7b5 | ExpressVPN \\ube14\\ub85c\\uadf8\", \"imageUrl\": \"https://s22908.pcdn.co/wp-content/uploads/2024/01/unnamed-9.jpeg\", \"link\": \"https://www.expressvpn.com/kr/blog/shopping-tricks-that-make-you-spend-more/\"}, {\"title\": \"\\uc0f5 \\ud314\\ub85c\\uc6cc\\ub97c \\ub298\\ub9ac\\ub294 \\ub9c8\\ucf00\\ud305 \\uc804\\ub7b5 - Qoo10\\u5927\\u5b66-\\u30b7\\u30e7\\u30c3\\u30d7\\u904b\\u55b6\\u30ce\\u30a6\\u30cf\\u30a6\", \"imageUrl\": \"https://university.qoo10.jp/img/article/86/img_17.webp\", \"link\": \"https://article-university.qoo10.jp/entry/86\"}, {\"title\": \"\\uc0f5 \\ud314\\ub85c\\uc6cc\\ub97c \\ub298\\ub9ac\\ub294 \\ub9c8\\ucf00\\ud305 \\uc804\\ub7b5 - Qoo10\\u5927\\u5b66-\\u30b7\\u30e7\\u30c3\\u30d7\\u904b\\u55b6\\u30ce\\u30a6\\u30cf\\u30a6\", \"imageUrl\": \"https://university.qoo10.jp/img/article/86/img_02.webp\", \"link\": \"https://article-university.qoo10.jp/entry/86\"}], \"relatedSearches\": [{\"query\": \"\\ud504\\ub85c\\ubaa8\\uc158 \\ud560\\uc778\\uc774\\ub780\"}, {\"query\": \"\\ud504\\ub85c\\ubaa8\\uc158 \\uc131\\uacf5\\uc0ac\\ub840\"}, {\"query\": \"\\ud504\\ub85c\\ubaa8\\uc158 \\ub9c8\\ucf00\\ud305 \\ucc28\\uc774\"}, {\"query\": \"\\ud504\\ub85c\\ubaa8\\uc158 \\ub73b\"}, {\"query\": \"\\ud504\\ub85c\\ubaa8\\uc158 \\uc774\\ubca4\\ud2b8 \\ub73b\"}, {\"query\": \"\\ud560\\uc778 \\ud504\\ub85c\\ubaa8\\uc158\"}, {\"query\": \"\\ud504\\ub85c\\ubaa8\\uc158 \\uc694\\uae08 \\ub73b\"}, {\"query\": \"\\ud504\\ub85c\\ubaa8\\uc158 \\uc885\\ub958\"}], \"credits\": 1}\n",
            "\n",
            "    위의 리스트는 쿼리 결과에 대한 검색 리스트야 상품명은 콴첼, 해당 상품의 온라인 구매 시 추가 할인 제공 등 프로모션 전략 개발 가능성 개별 포장된 제품의 위생적 장점을 마케팅 포인트로 활용 가능 건강보조식품 시장에서 젊은 층을 타겟팅한 광고 전략 개발 가능성.\n",
            "\n",
            "    네가 생각하기에 쿼리의 주제를 잘 담고 있는 가장 훌륭한 3개의 아티클을 찾아봐.\n",
            "\n",
            "    return ONLY an array of urls.\n",
            "    also make sure the articles are recent and not too old.\n",
            "    if the file, or URL is invalid, show www.google.com\n",
            "\n",
            "    \u001b[0m\n"
          ]
        },
        {
          "name": "stderr",
          "output_type": "stream",
          "text": [
            "/var/folders/m1/bqb2x_hs2p3c9xfm8sbxkgcr0000gn/T/ipykernel_71397/1683877242.py:6: LangChainDeprecationWarning: The class `ChatOpenAI` was deprecated in LangChain 0.0.10 and will be removed in 1.0. An updated version of the class exists in the :class:`~langchain-openai package and should be used instead. To use it run `pip install -U :class:`~langchain-openai` and import as `from :class:`~langchain_openai import ChatOpenAI``.\n",
            "  llm = ChatOpenAI(temperature=0.5)\n",
            "/var/folders/m1/bqb2x_hs2p3c9xfm8sbxkgcr0000gn/T/ipykernel_71397/1683877242.py:25: LangChainDeprecationWarning: The class `LLMChain` was deprecated in LangChain 0.1.17 and will be removed in 1.0. Use :meth:`~RunnableSequence, e.g., `prompt | llm`` instead.\n",
            "  article_chooser_chain = LLMChain(\n",
            "/var/folders/m1/bqb2x_hs2p3c9xfm8sbxkgcr0000gn/T/ipykernel_71397/1683877242.py:31: LangChainDeprecationWarning: The method `Chain.run` was deprecated in langchain 0.1.0 and will be removed in 1.0. Use :meth:`~invoke` instead.\n",
            "  urls = article_chooser_chain.run(response_str=response_str, query=query)\n"
          ]
        },
        {
          "name": "stdout",
          "output_type": "stream",
          "text": [
            "\n",
            "\u001b[1m> Finished chain.\u001b[0m\n",
            "['https://advertising.amazon.com/ko-kr/library/guides/product-promotion', 'https://www.branchleafdigital.com/ko/want-to-grow-your-online-store-here-are-8-tactics-to-add-to-your-e-commerce-strategy/', 'https://www.sixshop.com/official-blog/%EA%B0%84%EB%8B%A8%ED%95%98%EC%A7%80%EB%A7%8C-%ED%9A%A8%EA%B3%BC%EC%A0%81%EC%9D%B8-%EC%9E%90%EC%82%AC%EB%AA%B0-%EB%A7%88%EC%BC%80%ED%8C%85-%EC%A0%84%EB%9E%B5-5%EA%B0%80%EC%A7%80']\n"
          ]
        },
        {
          "data": {
            "text/plain": [
              "['https://advertising.amazon.com/ko-kr/library/guides/product-promotion',\n",
              " 'https://www.branchleafdigital.com/ko/want-to-grow-your-online-store-here-are-8-tactics-to-add-to-your-e-commerce-strategy/',\n",
              " 'https://www.sixshop.com/official-blog/%EA%B0%84%EB%8B%A8%ED%95%98%EC%A7%80%EB%A7%8C-%ED%9A%A8%EA%B3%BC%EC%A0%81%EC%9D%B8-%EC%9E%90%EC%82%AC%EB%AA%B0-%EB%A7%88%EC%BC%80%ED%8C%85-%EC%A0%84%EB%9E%B5-5%EA%B0%80%EC%A7%80']"
            ]
          },
          "execution_count": 12,
          "metadata": {},
          "output_type": "execute_result"
        }
      ],
      "source": [
        "#Google Serper API에서 검색한 내용을 search_result로 받아와 저장(json형태)\n",
        "search_result = search_serp(final_query_1)\n",
        "\n",
        "#LLM 템플릿을 통해 가장 잘 맞는 url을 골라, 반환\n",
        "pick_best_articles_urls(response_json=search_result, query=final_query_1)"
      ]
    },
    {
      "cell_type": "markdown",
      "metadata": {
        "id": "Yo9jchycDiLr"
      },
      "source": [
        "## URL로 받아온 아티클의 내용 요약하기"
      ]
    },
    {
      "cell_type": "code",
      "execution_count": 13,
      "metadata": {
        "id": "OquRAAz1Dkak"
      },
      "outputs": [],
      "source": [
        "def extract_content_from_urls(urls):\n",
        "\n",
        "  loader = UnstructuredURLLoader(urls=urls)\n",
        "  data = loader.load()\n",
        "\n",
        "  text_splitter = CharacterTextSplitter(\n",
        "      separator='\\n',\n",
        "      chunk_size=1000,\n",
        "      chunk_overlap=200,\n",
        "      length_function=len\n",
        "  )\n",
        "\n",
        "  docs = text_splitter.split_documents(data)\n",
        "  db = FAISS.from_documents(docs, embeddings)\n",
        "\n",
        "  return db"
      ]
    },
    {
      "cell_type": "markdown",
      "metadata": {
        "id": "4UcxP4eWHWN0"
      },
      "source": [
        "## 요약 진행하기"
      ]
    },
    {
      "cell_type": "code",
      "execution_count": 14,
      "metadata": {
        "id": "OgK9JO-BHX8Y"
      },
      "outputs": [],
      "source": [
        "def summarizer(db, query, k=4):\n",
        "  docs = db.similarity_search(query, k=k)\n",
        "\n",
        "  docs_page_content = \" \".join([d.page_content for d in docs])\n",
        "\n",
        "  llm = ChatOpenAI(model=\"gpt-3.5-turbo\", temperature=0.5)\n",
        "  template = \"\"\"\n",
        "    {docs}\n",
        "\n",
        "    이 뉴스레터는 이메일로 발성될거야. 스팸처럼 보이지 않도록 아래의 양식을 지켜야 해.\n",
        "\n",
        "    가이드라인에 맞춰서 적어줘.\n",
        "    1. 콘텐츠가 밝은 내용이어야 하며, 정보를 얻을 수 있고 유용해야 해.\n",
        "    2. 콘텐츠가 너무 길지 않은지 확인해야 해.\n",
        "    3. 콘텐츠는 {query}토픽을 잘 나타내고 있는 내용이어야 해.\n",
        "    4. 콘텐츠는 읽기 쉽게 쓰여야 하고, 간결해야 해.\n",
        "    5. 콘텐츠는 독자에게 영감을 줄 수 있어야 해.\n",
        "\n",
        "    읽기 편하게 한국어로 작성해 줘.\n",
        "\n",
        "    SUMMARY :\n",
        "    \"\"\"\n",
        "\n",
        "  prompt_template = PromptTemplate(input_variables=[\"docs\", \"query\"], template=template)\n",
        "\n",
        "  summarize_chain = LLMChain(llm=llm, prompt=prompt_template, verbose=True)\n",
        "  response = summarize_chain.run(docs=docs_page_content, query=query)\n",
        "\n",
        "  return response.replace(\"\\n\", \"\")"
      ]
    },
    {
      "cell_type": "code",
      "execution_count": 15,
      "metadata": {
        "colab": {
          "base_uri": "https://localhost:8080/"
        },
        "id": "GT5wClHkJXLT",
        "outputId": "5666bce1-5026-44a3-ee49-d96f23eed1c6"
      },
      "outputs": [
        {
          "name": "stdout",
          "output_type": "stream",
          "text": [
            "Response ====> , {'searchParameters': {'q': 'recent famouse K-Pop in global', 'gl': 'us', 'hl': 'en', 'type': 'search', 'num': 5, 'engine': 'google'}, 'organic': [{'title': 'The 10 Most Popular K-Pop Groups Right Now - J-14', 'link': 'https://www.j-14.com/posts/the-10-most-popular-k-pop-groups-right-now/', 'snippet': 'K, Pop OffTop 10 of the Most Popular K-Pop Groups Right Now · BTS · BLACKPINK · Stray Kids · NewJeans · TXT · TWICE · ATEEZ · IVE.', 'date': 'Jul 23, 2024', 'position': 1}, {'title': \"2024's Top K-pop Idols - Dance Vision Blog\", 'link': 'https://blog.dancevision.com/top-kpop-idols', 'snippet': \"2024's Top K-pop Idols · 1. Jungkook (BTS) · 2. Hyunjin (Stray Kids) · 3. Jisoo (BlackPink) · 4. J-Hope (BTS) · 5. Cha Eun Woo (ASTRO) · 6. Minji ( ...\", 'date': 'Jan 28, 2024', 'position': 2}, {'title': 'The 2024 Billboard K-Pop Artist 100', 'link': 'https://www.billboard.com/lists/k-pop-artist-100-list-2024-ranked/', 'snippet': \"From chart-topping groups like Stray Kids, ATEEZ and FIFTY FIFTY to all seven BTS members, here's how K-pop stars ranked across the major charts last year.\", 'date': 'Feb 27, 2024', 'position': 3}, {'title': 'Which kpop group is the most popular in your country - Reddit', 'link': 'https://www.reddit.com/r/kpopthoughts/comments/15r6rfn/which_kpop_group_is_the_most_popular_in_your/', 'snippet': \"Besides BTS and Blackpink, I've found EXO, NCT, and SKZ to be the most popular amongst Kpop fans. But Monsta X and TXT songs get a lot of airplay at shops.\", 'date': 'Aug 14, 2023', 'sitelinks': [{'title': 'Which K-pop groups do you believe could become mainstream in ...', 'link': 'https://www.reddit.com/r/kpopthoughts/comments/157cgtc/which_kpop_groups_do_you_believe_could_become/'}, {'title': 'NEWJEANS is now the third biggest K-pop group (second ... - Reddit', 'link': 'https://www.reddit.com/r/unpopularkpopopinions/comments/121fwii/newjeans_is_now_the_third_biggest_kpop_group/'}, {'title': 'What is the biggest K-Pop hit of all-time? (aside from Gangnam Style)', 'link': 'https://www.reddit.com/r/kpopthoughts/comments/15702jk/what_is_the_biggest_kpop_hit_of_alltime_aside/'}, {'title': 'Which groups are -actually- popular in South Korea? : r/kpophelp', 'link': 'https://www.reddit.com/r/kpophelp/comments/pu4cn1/which_groups_are_actually_popular_in_south_korea/'}], 'position': 4}, {'title': \"Mapping Out K-Pop's Global Dominance | Luminate\", 'link': 'https://luminatedata.com/blog/mapping-out-k-pops-global-dominance/', 'snippet': \"Jung Kook & Latto's “Seven” was this year's Billboard No. 1 Global Song of the Summer. With the success of K-Pop globally, let's use Luminate ...\", 'date': 'Oct 24, 2023', 'attributes': {'Missing': 'famous | Show results with:famous'}, 'position': 5}], 'relatedSearches': [{'query': 'Most popular Kpop group worldwide 2024'}, {'query': 'Recent famous k pop in global reddit'}, {'query': 'Recent famous k pop in global male'}, {'query': 'Recent famous k pop in global female'}, {'query': 'Most popular kpop idol in the world 2024'}, {'query': 'Recent famous k pop in global bts'}, {'query': 'Top 10 most popular kpop groups'}, {'query': 'who is the most famous k-pop idol in the world'}], 'credits': 1}\n",
            "\n",
            "\n",
            "\u001b[1m> Entering new LLMChain chain...\u001b[0m\n",
            "Prompt after formatting:\n",
            "\u001b[32;1m\u001b[1;3m\n",
            "    너는 소비자 트렌드와 시장 동향을 분석하는 전문 평론가야.\n",
            "    지금 분석 중인 상품 브랜드의 기회와 위협 요인에 관한 최신 뉴스나 아티클을 찾고 있어.\n",
            "\n",
            "    QUERY RESPONSE :{\"searchParameters\": {\"q\": \"recent famouse K-Pop in global\", \"gl\": \"us\", \"hl\": \"en\", \"type\": \"search\", \"num\": 5, \"engine\": \"google\"}, \"organic\": [{\"title\": \"The 10 Most Popular K-Pop Groups Right Now - J-14\", \"link\": \"https://www.j-14.com/posts/the-10-most-popular-k-pop-groups-right-now/\", \"snippet\": \"K, Pop OffTop 10 of the Most Popular K-Pop Groups Right Now \\u00b7 BTS \\u00b7 BLACKPINK \\u00b7 Stray Kids \\u00b7 NewJeans \\u00b7 TXT \\u00b7 TWICE \\u00b7 ATEEZ \\u00b7 IVE.\", \"date\": \"Jul 23, 2024\", \"position\": 1}, {\"title\": \"2024's Top K-pop Idols - Dance Vision Blog\", \"link\": \"https://blog.dancevision.com/top-kpop-idols\", \"snippet\": \"2024's Top K-pop Idols \\u00b7 1. Jungkook (BTS) \\u00b7 2. Hyunjin (Stray Kids) \\u00b7 3. Jisoo (BlackPink) \\u00b7 4. J-Hope (BTS) \\u00b7 5. Cha Eun Woo (ASTRO) \\u00b7 6. Minji ( ...\", \"date\": \"Jan 28, 2024\", \"position\": 2}, {\"title\": \"The 2024 Billboard K-Pop Artist 100\", \"link\": \"https://www.billboard.com/lists/k-pop-artist-100-list-2024-ranked/\", \"snippet\": \"From chart-topping groups like Stray Kids, ATEEZ and FIFTY FIFTY to all seven BTS members, here's how K-pop stars ranked across the major charts last year.\", \"date\": \"Feb 27, 2024\", \"position\": 3}, {\"title\": \"Which kpop group is the most popular in your country - Reddit\", \"link\": \"https://www.reddit.com/r/kpopthoughts/comments/15r6rfn/which_kpop_group_is_the_most_popular_in_your/\", \"snippet\": \"Besides BTS and Blackpink, I've found EXO, NCT, and SKZ to be the most popular amongst Kpop fans. But Monsta X and TXT songs get a lot of airplay at shops.\", \"date\": \"Aug 14, 2023\", \"sitelinks\": [{\"title\": \"Which K-pop groups do you believe could become mainstream in ...\", \"link\": \"https://www.reddit.com/r/kpopthoughts/comments/157cgtc/which_kpop_groups_do_you_believe_could_become/\"}, {\"title\": \"NEWJEANS is now the third biggest K-pop group (second ... - Reddit\", \"link\": \"https://www.reddit.com/r/unpopularkpopopinions/comments/121fwii/newjeans_is_now_the_third_biggest_kpop_group/\"}, {\"title\": \"What is the biggest K-Pop hit of all-time? (aside from Gangnam Style)\", \"link\": \"https://www.reddit.com/r/kpopthoughts/comments/15702jk/what_is_the_biggest_kpop_hit_of_alltime_aside/\"}, {\"title\": \"Which groups are -actually- popular in South Korea? : r/kpophelp\", \"link\": \"https://www.reddit.com/r/kpophelp/comments/pu4cn1/which_groups_are_actually_popular_in_south_korea/\"}], \"position\": 4}, {\"title\": \"Mapping Out K-Pop's Global Dominance | Luminate\", \"link\": \"https://luminatedata.com/blog/mapping-out-k-pops-global-dominance/\", \"snippet\": \"Jung Kook & Latto's \\u201cSeven\\u201d was this year's Billboard No. 1 Global Song of the Summer. With the success of K-Pop globally, let's use Luminate ...\", \"date\": \"Oct 24, 2023\", \"attributes\": {\"Missing\": \"famous | Show results with:famous\"}, \"position\": 5}], \"relatedSearches\": [{\"query\": \"Most popular Kpop group worldwide 2024\"}, {\"query\": \"Recent famous k pop in global reddit\"}, {\"query\": \"Recent famous k pop in global male\"}, {\"query\": \"Recent famous k pop in global female\"}, {\"query\": \"Most popular kpop idol in the world 2024\"}, {\"query\": \"Recent famous k pop in global bts\"}, {\"query\": \"Top 10 most popular kpop groups\"}, {\"query\": \"who is the most famous k-pop idol in the world\"}], \"credits\": 1}\n",
            "\n",
            "    위의 리스트는 쿼리 결과에 대한 검색 리스트야 recent famouse K-Pop in global.\n",
            "\n",
            "    네가 생각하기에 쿼리의 주제를 잘 담고 있는 가장 훌륭한 3개의 아티클을 찾아봐.\n",
            "\n",
            "    return ONLY an array of urls.\n",
            "    also make sure the articles are recent and not too old.\n",
            "    if the file, or URL is invalid, show www.google.com\n",
            "\n",
            "    \u001b[0m\n",
            "\n",
            "\u001b[1m> Finished chain.\u001b[0m\n",
            "['https://www.j-14.com/posts/the-10-most-popular-k-pop-groups-right-now/', 'https://blog.dancevision.com/top-kpop-idols', 'https://www.billboard.com/lists/k-pop-artist-100-list-2024-ranked/']\n"
          ]
        },
        {
          "name": "stderr",
          "output_type": "stream",
          "text": [
            "Error fetching or processing https://www.billboard.com/lists/k-pop-artist-100-list-2024-ranked/, exception: Invalid input object: NoneType\n"
          ]
        },
        {
          "name": "stdout",
          "output_type": "stream",
          "text": [
            "\n",
            "\n",
            "\u001b[1m> Entering new LLMChain chain...\u001b[0m\n",
            "Prompt after formatting:\n",
            "\u001b[32;1m\u001b[1;3m\n",
            "    Love J-14? Be sure to subscribe to our YouTube channel for fun, exclusive videos with your favorite stars.\n",
            "1 of 10\n",
            "BTS\n",
            "BTS is widely considered *the* most popular K-pop group globally, and their acclaim is well-deserved. They made history on iTunes by having eight songs reach number one in 100 countries, set a record for the most viewers on a YouTube premiere, and had tremendous success with a U.S. stadium tour.\n",
            "2 of 10\n",
            "BLACKPINK\n",
            "BLACKPINK stands tall as one of today’s most beloved K-pop sensations, and were the very first K-pop group to perform at Coachella… which they did twice! With chart-topping history and electrifying choreography that might just tempt you to learn it yourself, they’re a force to be reckoned with in music.\n",
            "3 of 10\n",
            "Stray Kids And despite their humble beginnings, the group soon became internationally loved after they were nominated and won a Billboard Music Award for Top Social Artist in 2017 — the first K-Pop group to ever be nominated for such an award. They soon crossed into the global music market, leading the Korean Wave into the United States and have continued to break numerous sales records.\n",
            "While they’re currently on hiatus until 2025 due to their South Korean military enlistments (yeah, read about that here), they’re still very much the biggest band in the world and we don’t see that changing any time soon.\n",
            "Scroll through our gallery below for a guide to all of the most popular K-pop groups right now.\n",
            "Love J-14? Be sure to subscribe to our YouTube channel for fun, exclusive videos with your favorite stars.\n",
            "1 of 10\n",
            "BTS Keep reading for the most popular K-pop groups of 2024 (so far).\n",
            "We’ll start with BTS, because without them, there wouldn’t even be a list. The Korean band was formed in 2013, and since then they’ve seriously been taking the world by storm. Over the years they’ve sold millions of copies of their albums, completely slayed the charts, released their very own movie , won a ton of awards, and sold out multiple world tours. Yeah, the list is seriously impressive.\n",
            "The group started off with little success within the K-pop industry when they first debuted, as they came from a smaller music company in South Korea called Big Hit Entertainment (also now known as HYBE), which made it difficult to compete against K-Pop groups from bigger music companies with more money and resources. KAI 📸: https://shorturl.at/hkv68\n",
            "As we wrap up our journey through the dazzling world of K-pop in 2024, we hope you've enjoyed discovering and celebrating the top idols who have left an indelible mark on the global stage. Keep tuning in for more updates on your favorite K-pop stars, and until next time, may the rhythm of K-pop continue to captivate your senses!\n",
            "\n",
            "    이 뉴스레터는 이메일로 발성될거야. 스팸처럼 보이지 않도록 아래의 양식을 지켜야 해.\n",
            "\n",
            "    가이드라인에 맞춰서 적어줘.\n",
            "    1. 콘텐츠가 밝은 내용이어야 하며, 정보를 얻을 수 있고 유용해야 해.\n",
            "    2. 콘텐츠가 너무 길지 않은지 확인해야 해.\n",
            "    3. 콘텐츠는 recent famouse K-Pop in global토픽을 잘 나타내고 있는 내용이어야 해.\n",
            "    4. 콘텐츠는 읽기 쉽게 쓰여야 하고, 간결해야 해.\n",
            "    5. 콘텐츠는 독자에게 영감을 줄 수 있어야 해.\n",
            "\n",
            "    읽기 편하게 한국어로 작성해 줘.\n",
            "\n",
            "    SUMMARY :\n",
            "    \u001b[0m\n",
            "\n",
            "\u001b[1m> Finished chain.\u001b[0m\n",
            "URLS :  ['https://www.j-14.com/posts/the-10-most-popular-k-pop-groups-right-now/', 'https://blog.dancevision.com/top-kpop-idols', 'https://www.billboard.com/lists/k-pop-artist-100-list-2024-ranked/']\n",
            "SUMMARIZE :  2024년 현재 가장 인기 있는 K-pop 그룹들을 소개하는 J-14의 콘텐츠는 밝고 유용한 내용을 담고 있습니다. BTS와 BLACKPINK을 비롯한 인기 그룹들의 활약과 성과를 소개하며, K-pop의 글로벌 인기를 잘 보여주고 있습니다. 글은 너무 길지 않고 읽기 쉽게 작성되어 있어 독자들에게 영감을 줄 수 있습니다. 콘텐츠는 최신 K-pop 트렌드를 잘 반영하고 있어, K-pop을 좋아하는 팬들에게 유용한 정보를 제공하고 있습니다.\n"
          ]
        }
      ],
      "source": [
        "query = 'recent famouse K-Pop in global'\n",
        "\n",
        "search_result = search_serp(query)\n",
        "urls = pick_best_articles_urls(response_json=search_result, query=query)\n",
        "data = extract_content_from_urls(urls)\n",
        "summaries = summarizer(db=data, query=query)\n",
        "\n",
        "print(\"URLS : \",  urls)\n",
        "print(\"SUMMARIZE : \" , summaries)"
      ]
    },
    {
      "cell_type": "code",
      "execution_count": 17,
      "metadata": {},
      "outputs": [
        {
          "data": {
            "text/plain": [
              "['https://www.j-14.com/posts/the-10-most-popular-k-pop-groups-right-now/',\n",
              " 'https://blog.dancevision.com/top-kpop-idols',\n",
              " 'https://www.billboard.com/lists/k-pop-artist-100-list-2024-ranked/']"
            ]
          },
          "execution_count": 17,
          "metadata": {},
          "output_type": "execute_result"
        }
      ],
      "source": [
        "urls"
      ]
    },
    {
      "cell_type": "code",
      "execution_count": null,
      "metadata": {
        "colab": {
          "base_uri": "https://localhost:8080/"
        },
        "id": "DSMFAKZ6MP5W",
        "outputId": "a690bae9-299a-4adb-8054-2a3ceb4fadb9"
      },
      "outputs": [
        {
          "name": "stdout",
          "output_type": "stream",
          "text": [
            "Response ====> , {'searchParameters': {'q': '글로벌 세계에서 kpop의 위상', 'gl': 'us', 'hl': 'en', 'type': 'search', 'num': 5, 'engine': 'google'}, 'organic': [{'title': '글로벌 무대 우뚝 선 K-POP, 성공 비결은? - CJ 뉴스룸', 'link': 'https://cjnews.cj.net/%EA%B8%80%EB%A1%9C%EB%B2%8C-%EB%AC%B4%EB%8C%80-%EC%9A%B0%EB%9A%9D-%EC%84%A0-k-pop-%EC%84%B1%EA%B3%B5-%EB%B9%84%EA%B2%B0%EC%9D%80/', 'snippet': '사흘간 무려 14만 명. 미국 현지는 물론 전 세계 각국의 K-POP ... 11년 만에 KPOP과 K컬처의 위상이 눈부시게 높아진 것이다. ... 케이팝이 글로벌에서 이런 ...', 'date': 'Aug 24, 2023', 'position': 1}, {'title': 'K-POP의 글로벌 인기와 세계적 영향력: 음악계를 넘어선 혁신적 영향', 'link': 'https://wisdomagora.com/k-pop%EC%9D%98-%EA%B8%80%EB%A1%9C%EB%B2%8C-%EC%9D%B8%EA%B8%B0%EC%99%80-%EC%84%B8%EA%B3%84%EC%A0%81-%EC%98%81%ED%96%A5%EB%A0%A5-%EC%9D%8C%EC%95%85%EA%B3%84%EB%A5%BC-%EB%84%98%EC%96%B4%EC%84%A0/', 'snippet': '방탄소년단에 이어 라이즈 또한 케이팝을 통하여 한국이라는 나라를 전 세계에 알리고 있다. 케이팝은 하나의 문화산업의 경계에서 벗어나 한국과 다른 나라와의 외교관 그 ...', 'position': 2}, {'title': 'K-POP/해외 - 나무위키', 'link': 'https://namu.wiki/w/K-POP/%ED%95%B4%EC%99%B8', 'snippet': \"... K-POP의 위상 자체도 굉장히 많이 상승했음을 알 수 있다. ... 미국 언론들은 방탄소년단의 인기도를 '세계에서 ... Stan culture는 K-POP에서 먼저 시작 ...\", 'date': 'Oct 4, 2024', 'position': 3}, {'title': '연이은 기록 행진, 케이팝의 미래는? - 한국국제문화교류진흥원', 'link': 'http://m.kofice.or.kr/b20_industry/b20_industry_03_view.asp?seq=8108', 'snippet': '... 특성을 반영해 북미에서의 케이팝 주요 성과와 경향성을 정리하고, 글로벌 음악씬을 넘어 전 세계 대중문화산업에서 케이팝의 영향력을 살펴보았다.', 'date': 'Jan 26, 2023', 'position': 4}, {'title': \"'한국어' 미국에선 제3의 언어…갈수록 높아지는 K팝 위상 | 뉴스A\", 'link': 'https://www.youtube.com/watch?v=FMMTWKu1SkU', 'snippet': \"북미 시장에서 케이팝이 하나의 장르로 자리잡았습니다. ... [#벌거벗은세계사] 전 세계 최대 규모의 ... '한국통' 꿈꾸는 ...\", 'date': 'Jul 18, 2023', 'attributes': {'Duration': '1:50', 'Posted': 'Jul 18, 2023'}, 'position': 5}], 'relatedSearches': [{'query': '미국 kpop 현실'}, {'query': '해외 kpop 순위'}, {'query': '케이팝 해외 현실'}, {'query': '케이팝 해외 인기'}, {'query': '케이팝 해외 디시'}, {'query': 'k-pop이 세계에 미치는 영향'}, {'query': '케이팝 인기 이유'}, {'query': 'k-pop 인기 순위'}], 'credits': 1}\n",
            "\n",
            "\n",
            "\u001b[1m> Entering new LLMChain chain...\u001b[0m\n",
            "Prompt after formatting:\n",
            "\u001b[32;1m\u001b[1;3m\n",
            "    너는 아주 유명한 케이팝 평론가야.\n",
            "    신곡에 대해 분석한 흥미롭고, 유용한 아티클을 찾고 있어.\n",
            "\n",
            "    QUERY RESPONSE :{\"searchParameters\": {\"q\": \"\\uae00\\ub85c\\ubc8c \\uc138\\uacc4\\uc5d0\\uc11c kpop\\uc758 \\uc704\\uc0c1\", \"gl\": \"us\", \"hl\": \"en\", \"type\": \"search\", \"num\": 5, \"engine\": \"google\"}, \"organic\": [{\"title\": \"\\uae00\\ub85c\\ubc8c \\ubb34\\ub300 \\uc6b0\\ub69d \\uc120 K-POP, \\uc131\\uacf5 \\ube44\\uacb0\\uc740? - CJ \\ub274\\uc2a4\\ub8f8\", \"link\": \"https://cjnews.cj.net/%EA%B8%80%EB%A1%9C%EB%B2%8C-%EB%AC%B4%EB%8C%80-%EC%9A%B0%EB%9A%9D-%EC%84%A0-k-pop-%EC%84%B1%EA%B3%B5-%EB%B9%84%EA%B2%B0%EC%9D%80/\", \"snippet\": \"\\uc0ac\\ud758\\uac04 \\ubb34\\ub824 14\\ub9cc \\uba85. \\ubbf8\\uad6d \\ud604\\uc9c0\\ub294 \\ubb3c\\ub860 \\uc804 \\uc138\\uacc4 \\uac01\\uad6d\\uc758 K-POP ... 11\\ub144 \\ub9cc\\uc5d0 KPOP\\uacfc K\\uceec\\ucc98\\uc758 \\uc704\\uc0c1\\uc774 \\ub208\\ubd80\\uc2dc\\uac8c \\ub192\\uc544\\uc9c4 \\uac83\\uc774\\ub2e4. ... \\ucf00\\uc774\\ud31d\\uc774 \\uae00\\ub85c\\ubc8c\\uc5d0\\uc11c \\uc774\\ub7f0 ...\", \"date\": \"Aug 24, 2023\", \"position\": 1}, {\"title\": \"K-POP\\uc758 \\uae00\\ub85c\\ubc8c \\uc778\\uae30\\uc640 \\uc138\\uacc4\\uc801 \\uc601\\ud5a5\\ub825: \\uc74c\\uc545\\uacc4\\ub97c \\ub118\\uc5b4\\uc120 \\ud601\\uc2e0\\uc801 \\uc601\\ud5a5\", \"link\": \"https://wisdomagora.com/k-pop%EC%9D%98-%EA%B8%80%EB%A1%9C%EB%B2%8C-%EC%9D%B8%EA%B8%B0%EC%99%80-%EC%84%B8%EA%B3%84%EC%A0%81-%EC%98%81%ED%96%A5%EB%A0%A5-%EC%9D%8C%EC%95%85%EA%B3%84%EB%A5%BC-%EB%84%98%EC%96%B4%EC%84%A0/\", \"snippet\": \"\\ubc29\\ud0c4\\uc18c\\ub144\\ub2e8\\uc5d0 \\uc774\\uc5b4 \\ub77c\\uc774\\uc988 \\ub610\\ud55c \\ucf00\\uc774\\ud31d\\uc744 \\ud1b5\\ud558\\uc5ec \\ud55c\\uad6d\\uc774\\ub77c\\ub294 \\ub098\\ub77c\\ub97c \\uc804 \\uc138\\uacc4\\uc5d0 \\uc54c\\ub9ac\\uace0 \\uc788\\ub2e4. \\ucf00\\uc774\\ud31d\\uc740 \\ud558\\ub098\\uc758 \\ubb38\\ud654\\uc0b0\\uc5c5\\uc758 \\uacbd\\uacc4\\uc5d0\\uc11c \\ubc97\\uc5b4\\ub098 \\ud55c\\uad6d\\uacfc \\ub2e4\\ub978 \\ub098\\ub77c\\uc640\\uc758 \\uc678\\uad50\\uad00 \\uadf8 ...\", \"position\": 2}, {\"title\": \"K-POP/\\ud574\\uc678 - \\ub098\\ubb34\\uc704\\ud0a4\", \"link\": \"https://namu.wiki/w/K-POP/%ED%95%B4%EC%99%B8\", \"snippet\": \"... K-POP\\uc758 \\uc704\\uc0c1 \\uc790\\uccb4\\ub3c4 \\uad49\\uc7a5\\ud788 \\ub9ce\\uc774 \\uc0c1\\uc2b9\\ud588\\uc74c\\uc744 \\uc54c \\uc218 \\uc788\\ub2e4. ... \\ubbf8\\uad6d \\uc5b8\\ub860\\ub4e4\\uc740 \\ubc29\\ud0c4\\uc18c\\ub144\\ub2e8\\uc758 \\uc778\\uae30\\ub3c4\\ub97c '\\uc138\\uacc4\\uc5d0\\uc11c ... Stan culture\\ub294 K-POP\\uc5d0\\uc11c \\uba3c\\uc800 \\uc2dc\\uc791 ...\", \"date\": \"Oct 4, 2024\", \"position\": 3}, {\"title\": \"\\uc5f0\\uc774\\uc740 \\uae30\\ub85d \\ud589\\uc9c4, \\ucf00\\uc774\\ud31d\\uc758 \\ubbf8\\ub798\\ub294? - \\ud55c\\uad6d\\uad6d\\uc81c\\ubb38\\ud654\\uad50\\ub958\\uc9c4\\ud765\\uc6d0\", \"link\": \"http://m.kofice.or.kr/b20_industry/b20_industry_03_view.asp?seq=8108\", \"snippet\": \"... \\ud2b9\\uc131\\uc744 \\ubc18\\uc601\\ud574 \\ubd81\\ubbf8\\uc5d0\\uc11c\\uc758 \\ucf00\\uc774\\ud31d \\uc8fc\\uc694 \\uc131\\uacfc\\uc640 \\uacbd\\ud5a5\\uc131\\uc744 \\uc815\\ub9ac\\ud558\\uace0, \\uae00\\ub85c\\ubc8c \\uc74c\\uc545\\uc52c\\uc744 \\ub118\\uc5b4 \\uc804 \\uc138\\uacc4 \\ub300\\uc911\\ubb38\\ud654\\uc0b0\\uc5c5\\uc5d0\\uc11c \\ucf00\\uc774\\ud31d\\uc758 \\uc601\\ud5a5\\ub825\\uc744 \\uc0b4\\ud3b4\\ubcf4\\uc558\\ub2e4.\", \"date\": \"Jan 26, 2023\", \"position\": 4}, {\"title\": \"'\\ud55c\\uad6d\\uc5b4' \\ubbf8\\uad6d\\uc5d0\\uc120 \\uc81c3\\uc758 \\uc5b8\\uc5b4\\u2026\\uac08\\uc218\\ub85d \\ub192\\uc544\\uc9c0\\ub294 K\\ud31d \\uc704\\uc0c1 | \\ub274\\uc2a4A\", \"link\": \"https://www.youtube.com/watch?v=FMMTWKu1SkU\", \"snippet\": \"\\ubd81\\ubbf8 \\uc2dc\\uc7a5\\uc5d0\\uc11c \\ucf00\\uc774\\ud31d\\uc774 \\ud558\\ub098\\uc758 \\uc7a5\\ub974\\ub85c \\uc790\\ub9ac\\uc7a1\\uc558\\uc2b5\\ub2c8\\ub2e4. ... [#\\ubc8c\\uac70\\ubc97\\uc740\\uc138\\uacc4\\uc0ac] \\uc804 \\uc138\\uacc4 \\ucd5c\\ub300 \\uaddc\\ubaa8\\uc758 ... '\\ud55c\\uad6d\\ud1b5' \\uafc8\\uafb8\\ub294 ...\", \"date\": \"Jul 18, 2023\", \"attributes\": {\"Duration\": \"1:50\", \"Posted\": \"Jul 18, 2023\"}, \"position\": 5}], \"relatedSearches\": [{\"query\": \"\\ubbf8\\uad6d kpop \\ud604\\uc2e4\"}, {\"query\": \"\\ud574\\uc678 kpop \\uc21c\\uc704\"}, {\"query\": \"\\ucf00\\uc774\\ud31d \\ud574\\uc678 \\ud604\\uc2e4\"}, {\"query\": \"\\ucf00\\uc774\\ud31d \\ud574\\uc678 \\uc778\\uae30\"}, {\"query\": \"\\ucf00\\uc774\\ud31d \\ud574\\uc678 \\ub514\\uc2dc\"}, {\"query\": \"k-pop\\uc774 \\uc138\\uacc4\\uc5d0 \\ubbf8\\uce58\\ub294 \\uc601\\ud5a5\"}, {\"query\": \"\\ucf00\\uc774\\ud31d \\uc778\\uae30 \\uc774\\uc720\"}, {\"query\": \"k-pop \\uc778\\uae30 \\uc21c\\uc704\"}], \"credits\": 1}\n",
            "\n",
            "    위의 리스트는 쿼리 결과에 대한 검색 리스트야 글로벌 세계에서 kpop의 위상.\n",
            "\n",
            "    네가 생각하기에 쿼리의 주제를 잘 담고 있는 가장 훌륭한 3개의 아티클을 찾아봐.\n",
            "\n",
            "    return ONLY an array of urls.\n",
            "    also make sure the articles are recent and not too old.\n",
            "    if the file, or URL is invalid, show www.google.com\n",
            "\n",
            "    \u001b[0m\n",
            "\n",
            "\u001b[1m> Finished chain.\u001b[0m\n",
            "['https://cjnews.cj.net/%EA%B8%80%EB%A1%9C%EB%B2%8C-%EB%AC%B4%EB%8C%80-%EC%9A%B0%EB%9A%9D-%EC%84%A0-k-pop-%EC%84%B1%EA%B3%B5-%EB%B9%84%EA%B2%B0%EC%9D%80/', 'https://wisdomagora.com/k-pop%EC%9D%98-%EA%B8%80%EB%A1%9C%EB%B2%8C-%EC%9D%B8%EA%B8%B0%EC%99%80-%EC%84%B8%EA%B3%84%EC%A0%81-%EC%98%81%ED%96%A5%EB%A0%A5-%EC%9D%8C%EC%95%85%EA%B3%84%EB%A5%BC-%EB%84%98%EC%96%B4%EC%84%A0/', 'https://namu.wiki/w/K-POP/%ED%95%B4%EC%99%B8']\n"
          ]
        },
        {
          "name": "stderr",
          "output_type": "stream",
          "text": [
            "WARNING:langchain_text_splitters.base:Created a chunk of size 7472, which is longer than the specified 1000\n"
          ]
        },
        {
          "name": "stdout",
          "output_type": "stream",
          "text": [
            "\n",
            "\n",
            "\u001b[1m> Entering new LLMChain chain...\u001b[0m\n",
            "Prompt after formatting:\n",
            "\u001b[32;1m\u001b[1;3m\n",
            "    글로벌 무대 우뚝 선 K-POP, 성공 비결은?\n",
            "CULTURE & LIFESTYLE\n",
            "2023.08.24\n",
            "페이스북 공유\n",
            "링크드인 공유\n",
            "트위터 공유\n",
            "카카오톡 공유\n",
            "이메일 공유\n",
            "링크주소 복사\n",
            "인쇄\n",
            "지난 18일부터 20일까지 미국 LA에서 열린 세계 최대 규모 K-컬처 페스티벌 ‘KCON LA 2023’에 역대 최다 관객이 몰렸다. 사흘간 무려 14만 명. 미국 현지는 물론 전 세계 각국의 K-POP팬들이 한데 모여 한국의 음악과 문화를 즐겼다. 온라인에선 176개국 유무〮료 관객 590만 명이 함께했다.\n",
            "2012년 미국 어바인(Irvine)에서 처음 열린 KCON은 관객 1만 명으로 시작했다. 11년 만에 KPOP과 K컬처의 위상이 눈부시게 높아진 것이다. 글로벌 신드롬의 중심 BTS부터 미국 최대 음악 축제 코첼라의 헤드라이너로 선 블랙핑크, 미국 빌보드영〮국 오피셜 차트에 진입한 4세대 아이돌 뉴진스까지. 변방의 문화였던 K-POP이 글로벌 주류로 발돋움한 비결은 뭘까? 김태훈 팝 칼럼니스트와 김영대 음악평론가의 이야기를 들어봤다.\n",
            "글로벌 시장 속 K-POP이 걸어온 길\n",
            "K-POP 산업의 주체는 바로 ‘아이돌’이다. 음악은 기본, 댄스 등 퍼포먼스와 예능프로그램에서의 매력까지 아이돌 아티스트는 그 자체로 하나의 IP다.\n",
            "우리나라 아이돌의 시초는 1980년대로 거슬러 올라간다. 1988년 서울올림픽 개최를 계기로 세계화에 대한 인식이 재정립됐다. 이전에 우리 음악 안에서 세계적인 동시대성을 구현하는데 만족했지만, 해외 교류가 활발해지면서 글로벌 잠재 소비자에 대한 가능성을 발견했다. TV 매체의 발달로 시각적 요소의 중요성이 커지면서, 트렌드에 맞춰 아티스트를 지속적으로 발전시킬 수 있는 ‘시스템’에 대한 관심도 커졌다. 지난 18일부터 20일까지 미국 LA에서 열린 세계 최대 규모 K-컬처 페스티벌 ‘KCON LA 2023’에 역대 최다 관객이 몰렸다. 사흘간 무려 14만 명. 미국 현지는 물론 전 세계 각국의 K-POP팬들이 한데 모여 한국의 음악과 문화를 즐겼다. 온라인에선 176개국 유무〮료 관객 590만 명이 함께했다. 2012년 미국 어바인(Irvine)에서 처음 열린 KCON은 관객 1만 명으로 시작했다. 11년 만에 KPOP과 K컬처의 위상이 눈부시게 높아진 것이다. 글로벌 신드롬의 중심 BTS부터 미국 최대 음악 축제 코첼라의 헤드라이너로 선 블랙핑크, 미국 빌보드영〮국 오피셜 차트에 진입한 4세대 아이돌 뉴진스까지. 변방의 문화였던 K-POP이 글로벌 주류로 발돋움한 비결은 뭘까? 김태훈 팝 칼럼니스트와 김영대 음악평론가의 이야기를 들어봤다. 글로벌 시장 속 K-POP이 걸어온 길 K-POP 산업의 주체는 바로 ‘아이돌’이다. 음악은 기본, 댄스 등 퍼포먼스와 예능프로그램에서의 매력까지 아이돌 아티스트는 그 자체로 하나의 IP다. 우리나라 아이돌의 시초는 1980년대로 거슬러 올라간다. 1988년 서울올림픽 개최를 계기로 세계화에 대한 인식이 재정립됐다. 이전에 우리 음악 안에서 세계적인 동시대성을 구현하는데 만족했지만, 해외 교류가 활발해지면서 글로벌 잠재 소비자에 대한 가능성을 발견했다. TV 매체의 발달로 시각적 요소의 중요성이 커지면서, 트렌드에 맞춰 아티스트를 지속적으로 발전시킬 수 있는 ‘시스템’에 대한 관심도 커졌다. 이때 K-POP 원조인 H.O.T, 핑클, 젝스키스, god 등 1세대 아이돌이 등장했다. 이중 보아와 S.E.S는 첫 해외 진출 아티스트로 꼽힌다. 2000년대 후반 활동한 2세대 아이돌들은 미국, 일본, 동남아 시장에서 인기를 얻으며 한류의 초석을 다졌다. 소녀시대, 2NE1, 원더걸스가 대표적이다. 유튜브 플랫폼도 K-POP 글로벌화에 큰 역할을 했다. 2012년 싸이의 ‘강남스타일’이 유튜브를 통해 전 세계적으로 인기를 끌면서 글로벌시장에 K-POP의 존재를 각인시켰다. 이후 등장한 3세대 아이돌 방탄소년단(BTS)과 블랙핑크는 K-POP의 위상을 정점으로 끌어올렸다. 글로벌 밀리언셀러를 달성하고 빌보드 핫100에 진입하는 등 기록을 세우며 K-POP을 글로벌 메인스트림으로 이끌었다. K-POP은 기존 음악 시장과 차별화된 매력으로 틈새시장을 공략했다. 완성도 높은 종합 예술로서의 매력이었다. K-POP은 개별 요소로 인식되던 ‘춤’과 ‘안무’를 하나의 예술 장르, ‘퍼포먼스’로 승화시켰다. 퍼포먼스를 통해 만들어진 팬들과의 유대관계도 K-POP 아티스트들만의 독보적 무기였다. K-POP 산업의 선두주자, CJ ENM의 핵심 전략은? K-POP이 하나의 장르에서 산업으로 발전하면서 시스템과 인프라의 중요성이 더 높아졌다. CJ ENM도 이런 트렌드에 맞춰 음악 기반 IP 생태계 확장 시스템인 MCS(Music Creative ecoSystem) 전략을 도입했다. 첫번째는 K-POP 매니지먼트 시스템이다. 현 시점 K-POP 기획사들의 가장 큰 관심사는 ‘선순환 스템’이다. 과거 기획사들이 완성된 아티스트를 캐스팅하는데 그쳤다면 이제는 재능있는 원석을 발굴하고 육성해 데뷔까지 책임지는 전략적 시스템을 구축한다. 오랜 트레이닝을 거쳐 연습생이 데뷔하면 아티스트 자체가 ‘음악 IP’가 된다. CJ ENM의 오디션 프로그램들이 대표적인 사례다. 비공개로 진행되던 아이돌의 발굴육〮성 과정을 거침없이 공개하고 선발 과정에 팬들을 참여시키며 몰입도를 높였다. CJ ENM MCS의 두 번째 핵심 전략은 ‘팬 플랫폼’이다. 과거 아이돌 팬페이지나 온라인 팬카페의 기능이 뉴미디어 시대에 맞게 플랫폼화 됐다. 아이돌 관련 상품의 소비부터 소통까지 모두 모바일 기반의 ‘팬 플랫폼’에서 이뤄진다. 과거 아이돌 히트곡은 라디오나 TV 등 대중매체를 통해 불특정 다수인 대중에게 인기를 모으는 방식이었다. 현재 K-POP은 원하는 소비자를 특정하여 팬을 확보한 후, 이들이 원하는 맞춤 콘텐츠를 제공하고 유지하는 방식으로 변화했다. K-POP 팬들이 지속적으로 활동할 공간이 필요해졌고, 이에 따라 등장한 것이 팬 플랫폼이다. CJ ENM의 ‘Mnet Plus’, HYBE의 ‘위버스’, SM엔터테인먼트의 ‘버블’ 등 콘텐츠 기업에서 자체적으로 개발해 운영한다. 오프라인 팬 플랫폼도 있다. 10만명 이상의 팬들이 모이는 CJ ENM의 ‘KCON’이 대표적이다. 해외팬들의 경우 오프라인 소통 기회가 거의 없다. KCON은 글로벌 K-POP 팬들이 한데 모일 기회를 만들어 준다. 공통 관심사로 소통하며 자신들이 K-POP 팬임을 자각하고 고관여층으로 자리매김하게 된다. 세번째 핵심 전략은 매니지먼트 시스템이다. 고전적인 매니지먼트 시스템은 단순히 아티스트를 보조하고 돕는 역할을 했다. 지금은 그 의미가 광범위해져 ‘A&R(Artists and Repertoire)’로 확대됐다. 재능을 발견하는 것부터 시작해 음반을 포함한 아티스트 자체의 전반적인 기획을 담당한다. 예전엔 노래와 춤을 트레이닝하는 정도였다면 지금은 연기와 외국어는 물론 진출하려는 나라의 역사와 문화를 배울 수 있는 강연 시스템까지 구축하고 있다. A&R의 선진화된 시스템은 아티스트가 단순히 히트곡에 의존하지 않고 자신의 커리어를 이끌어나갈 수 있도록 한다. 음악에도 실험적이고 체계적인 제작 방식을 도입하며 수준을 끌어올린다. 미국일〮본까지…K-POP 현지화 주도하는 CJ ENM CJ ENM은 MCS 전략을 바탕으로 미국과 일본 시장을 집중 공략 중이다. 일본시장에선 현지 오디션을 통해 발굴된 INI와 JO1 이미 가시적인 성과를 보여주고 있다. ‘스타 수출’에서 ‘시스템 수출’로 진화하는 것이다. K-POP 시스템이 꿈꾸는 최종 단계는 INI나 JO1처럼 현지 문화에 최적화된 완전한 현지화 가수를 만드는 것이다. 이를 위해 현지 기업들과의 긴밀한 협업 체계를 구축할 필요가 있다. 한국 기업은 타 국가가 지니지 못한 플랫폼 산업의 원천기술을 보유한 만큼 주도권을 가지고 움직여야 한다. 동시에 글로벌 시장 진출 시 필요한 인문학적 요소가 충분한지 여부도 점검해야 한다. 다양한 문화권이 공존하는 글로벌 시대에 맞춰 단순히 현지의 팬만 확보하겠다는 생각보다는 그들의 문화 내에서 K-POP이 어떻게 자리잡을지도 고려해야 한다. 자막 보기[음악]콘텐츠 솔프는 미팅안녕하세요컨설팅의 김태훈입니다 전래는 글로벌신드롬을 일으킨 BTS 미국 최대음악 페스티벌의 헤드라이너로 무대에선블랙핑크4세대 걸그룹 글로벌 히트 등역대급 글로벌 전성기를 맡고 있죠바로 우리의 세계 결과는 k팝시스템의 핵심과케이팝의 글로벌화에 대한 이야기나눠보겠습니다함께 이야기 나눌 전문가 한번모셨습니다 안녕하세요네 안녕하세요오늘의 게스트음악평론가 김영배입니다[박수][음악]오늘의 썰💬 H/L음악 장르를 넘어서 하나의 산업이됐습니다 3개의 시장을 점령한케이팝이라고 음악이면 음악 퍼포먼은예능인으로서의 또 매력 사람 자체가이제 rp가 되는 건데 어떻게 발굴할것인지 어떻게키워낼 것이냐 어떻게데뷔를 시킬 거냐 당신이 원하는아이돌 만들어 드립니다케이팝의 역대급 글로벌 전성기라는이야기들을 합니다 그래서 오늘은글로벌 시장에서 케이팝의 위상에 대한이야기부터죠 여쭤보도록 하겠습니다K-POP이 위상을 얻기까지의 역사케이팝이 글로벌에서 이런 위상을얻기까지 하나는 어떤 사건들 또어떤 노력들 이것들을 통해서 하나의연대기가 있을 것 같은데 어떤 일이있었습니까 k팝이라는게 결국은 아이돌산업을 빼놓고 얘기할 수 없는데물론 이제 문화적으로 보면 조금 더거슬러 올라가죠 서울 올림픽을 전후로해서한국 안에서 어떤글로벌리티에 대한 새로운 인식 같은게있었던 거 같아요 맞아요 세계화국제화 33개로 세계는 서울 그런어떤 슬로건 자체가 굉장히규제의식 같은 거예요 같은 거였죠예전에는 우리가 음악을 만들어도세계인들이 같이 듣는다는 생각을 갖지않았어요 그냥 어떻게 보면 세계적인동시대성을 우리 안에서 구현하겠다는생각만 있었지 이거에 잠재적인소비자가 외국에 있을 거라는 생각을하지 않았었는데 해외에서 많은사람들이 직접 들어오고 그 사람들을만나고방송 같은 것들이 해외로 이제송출되는 것을 보면서 아 이게잠재적으로 우리 컨텐츠의 소비를해외에 있는 팬들과 소비자들이 함께할 수 있구나라는이 인식의 전환이일어난 거죠칩이라는 매체를 통한 보여주는음악으로의 전환이 일어나면서 최신트렌드에 맞춰서지속적으로규칙적으로 키워낼 수 있을까라는시스템에 대한 관심이 생겨나요 그부분에 이제 주목했던 분 중에 한분이 이제엔터테인먼트를 읽었죠이 새로운 젊은층들을과연 끌어들일 수 있는 일의 우상을한번 우리가 시스템적으로 만들어 보자그게 이제 k팝이었던 거죠 근데요게 이제 분기점이 있어요 1세대hot 뭐 핑크젝스키스 god 같은 그룹들이등장하면서 이런 케이팝 시스템이라는것을 처음으로 실험을 해봤고 그와중에 ses나 보아 같은 아티스트는해외 진출을 했죠 처음으로 전략적으로아예 그 세팅 초기부터 기획초기부터해외진출 염두에 두었었죠 보아 같은경우는 애초에 발굴단계부터 그 안에서활동하는 것까지 완벽하게재입합가수로서활약할 수 있게끔기획을 한 거죠 일본어가 얼마나완벽했는지 아직도 일본인들 사이에선보아가 한국 가수라는 걸 모르는사람도 있다고 하더라고요완벽한 일본어와 일본의 통화는 음악들매너들 이런 것들을 잘 갖추면서현지화 시스템이라는게 이제 처음으로돌아가기 시작했죠근데 두 번째 분기점은2000년대 후반에 2세대아이돌들입니다 뭐 여러분들 잘 아시는소녀시대 소녀시대 21 뭐 원더걸스이런 그룹들 2pm 같은 그룹들이있었죠 미국이라든지 일본 쉽지 않고동남시장에서 굉장히 큰 인기를 이제결정적인 역할을2005년에 등장한 유튜브였어요유튜브 그 와중에강남스타일이 2012년에 대박을치면서싸이를 통해서케이팝이라는 존재가확고해졌고케이팝이라는게 대중음악 시인의 갑자기지도에이름을 새긴 거예요그리로부터 이제 3세대k팝이 열리게 됩니다 우리가 잘 아는방탄소년단블랙핑크와 같은 그룹들이실제로 세계 시장을 점령을 했고실제 기록으로 봤을 때도글로벌 시장에서 밀리언셀러를 찍고빌보드 200이라든지 핫팩 같은 걸점령을 하고실제적인성과를 내기 시작한게 이제 3세대라고봐야 되겠죠 또 코첼라 같은 그런대표적인 페스티벌의 블랙핑크헤드라이너로 이제 쓰게 되는엄청난 일이다라는 생각이 드는데 자K-POP의 글로벌 성공 요인?그렇다면이 글로벌에서 k팝이 인기있는성공의 어떤 요인이 있다면 어떤 것이있을까요 이거는 사실 뭘 말해도 돼요정답이 정답이 하나가 정해져 있는 건아닌데차별화가 됐기 때문에 혹은 뭔가틈새시장을 열었기 때문에 성공했다고볼 수 있을 것 같은데 어떤 하나의요소라기보다는 그것들이 이제 모아진하나의 종합적인 패키지로서의 매력이돋보였다라고 저는 생각을 해요말하자면 완성도가 굉장히 높았다이렇게 볼 수 있는완성도 자체 우리가 기존에는 그냥안무혹은 춤이라고만 알고 있었던퍼포먼스이 댄스 코리아 그래픽 자체를하나의 예술로서의장르로 좀 승화시킨 부분이 있지않나라는 생각이 들어요 그리고퍼포먼스에 힘을 통해서아티스트와 뭔가 팬이 연결되는 그아주 아주 밀착적인 관계 같은 것들이런 것들이케이팝을 좀 힘이 아닌가라는 생각이듭니다 자 케이팝은 이제 음악 장르를CJ ENM의 ‘MCS’ 핵심 전략?넘어서 하나의 산업이 됐습니다이시스템과 인프라의 중요성이 그만큼커지고 있다 이런 걸 이제 우리가 알수 있는데pjenm 역시 같은 이제 흐름을가장 이제 빨리 캡처를 하고MCS 전략을 통해서 음악산업생태계를확장하고 또 글로벌화를 지향한다라는이야기를 합니다이 전략의 핵심트렌드들이 있다라고 하는데 그 핵심트렌드들을 좀 설명을 해 주신다면지금 이제 케이팝의 성공은 그 어느기획사를 막론하고과연 그 이거를 선순화시킬 수 있는시스템 자체를 만드는가요 부분에 있는거고 사실은 그 부분에서 가장 중요한건 뭐냐면뛰어난 재능이 될 수 있는재능의 오히려 원석 자체를 어떻게발굴할 것인가 그리고 이들을 어떻게키워낼 것이냐 그리고 이걸 어떻게포장을 해서 대비를 시킬 거냐 하는요거 자체가 시스템이라는 거예요전략의 개념으로내놓는 그 과정을 총괄한다는 거죠결국은 그 연습생 그 사람 자체가이제 rp가 되는 건데 이런아티스트를 만들어 낼 수 있는 우리가시스템을 구축을 한다면 그 안에서얼마든지 다양한 재능들을 유입시켜서그들을 이제 우리가 알고 있는아이돌로 키워낼 수 있다라는 이런마인드문 겁니다 과거에는 이제 컬렉터입장처럼돌아다니면서 완성된 사람들을 수집하는형태로 지금은시스템 하에서원석들을 발굴해서 직접 이제 세공하고그것을이트레이닝 기간 굉장히 길 있잖아요이런 과정들을 거쳐서 시장에 나오기때문에 사실은 경쟁적인측면에서 굉장히 어떤 뛰어난 어떤장점들을 가지고 있다 최근에 이제미국도k팝 시스템을 모방한발굴 훈련 시스템을 도입을 하려고하고 있어요 그런데 뭐 합숙 그다음에선후배관계 뭐 리더와 또 이렇게따르는 멤버들간의 이런 위계 관계같은 것들을 통해서 팀워크를 유지하는방식이문화와는 좀 맞지 않다 미국의 그음악 산업 꽤 유명한 이야기 있잖아요우정을 해치는 가장 좋은 방법은밴드를 만드는 거고결국 파탄내는 방법은 같이 투어를떠나는 거죠 집단과단체를 위해서 내 개인이 조금참아내는 부분 같은 것들이실제 아이돌 시스템에 녹아 있어요어떠한 논리가 가능하냐면 우리가 뭐솔로 활동하고 싶은 것들이 있어도일단은 그룹의성공을 위해 같이 가자라는 논리가성립이 되는 거예요 우리의 문화에서는미국 같았으면 3년 5년 힘들죠 그런식으로는 이런 시스템을 제작사 뿐만이K-POP 매니지먼트 시스템을 콘텐츠 기업에서 운영하는 사례아니라 이제 컨텐츠 기업에서운영하기도 합니다어떤 것들이 있었습니까 쉽게 말하면우리[음악]애초부터 팬들이 개입해서 같이만들어가는 하나의 새로운 ip죠[음악][음악][웃음]있어서 끌고 갈 것이냐 요게 이제관건인 거지 어떤 것들이 있을까요대표적인 것들이 결국은 놀이터인데지금은 뭐 모든 회사에서이 놀이터를자체적으로 개발을 하고 있죠대표적인게 하이브의 위버스 위버스위버스가 대표적이고 그 외에도SMI 하고 있는 그 아티스트와채팅 시스템버블이라고 하죠 이런 것도 이제하나의팬 플랫폼이라고 할 수 있을 것같고요cj도Mnet 플러스라는 온라인 플랫폼을구축을 했는데 최근에 이제 보이스플래닛 같은 경우는요 플랫폼을이용해서 이제 전 세계의 팬들이투표를 할 수 있게 만드는특별시스템을 구현을 했어요 온라인투표를 해서이 파이널 기간 동안에는1차 투표가 184개국에서817만 주거나 그러면 유행가입하고거의 비슷한가 또 한편으로는놀을 수 있는 어떤 장을 만들어주는게 또 하나가 있어요 이게대표적으로는 cjnm에서는 케이콘같은게[음악]해외 우리가k팝 팬이 있다는 거는 알고는있었어요 근데특히 미국 같은 나라는 이게 워낙에땅이 넓고천재도 있단 말이에요점과 같은 팬들이케이콘이라는이 장을 통해서 모일 수있었던 거예요처음에는 정말 작은 체육관에서 뭐 몇천 명 뭐 몇 만 명을 모여서 시작을했지만 지금은 이제 10만 단위 뭐20만 30만까지 가는 이런[음악]근데 그런 식으로 잠을 마련해주면자각하는 거죠 내가 케이팝 팬이구나나는 이런 활동을 통해서 내 정체성을확인을 하는구나라는 걸 본인이 이제느끼는 순간 우리가그렇게 원하는 케이팝의고관절층이라는게 이제 탄생을 또 하는거죠 사실 이제 코믹콘 같은 행사미국에서 전통적으로 이제 굉장히 그유명한 행사이기도 한데 최근에그거보다 더 커지면 커졌지 결코 적지않다라는 이야기도 하더군요 최근에‘KCON JAPAN 2023’ 행사는 어땠는지?일본에서도이 케이콘 재팬 행사가열렸었잖아요 12만 넘게 일본에서아마 올해 아마 케이콘 LA규모는 뭐 대단할 거라고벌써부터 뭐 짐작이 됩니다그렇다면 CJ enm의 MCS 핵심전략 그 마지막으로 이제 소개해 주실내용은 어떤 겁니까 결국은 종합적인의미에서의 매니지먼트 관리라고 봅니다고전적인 의미에서 매니지먼트는 그냥그야말로 아티스트를 매니징 한다는정도의 개념이죠지금의이 아티스트 매니지먼트라는 거는굉장히광범위한데 걸쳐 있어요아티스트들을 이제 어떤 아티스트로우리가 만들어 낼 거냐라는 의미에서가장 중요하게 등장하는 것이 anr아티스테인레퍼토어 미국파도막에서는 굉장히 오랜 시간 동안가장 중요한핵심적인요소였잖아요음악이 하나의 자연 발생된 것에서산업화 되는데 가장 큰 영향을 미치는역할들이죠 그래서 아티스트들의생명력을 길게 가져가기 위해서 이들을다양한 방식으로 훈련시킵니다 예전에는노래춤이 정도였다면 지금은 그걸 연기 뭐외국어 뭐 심지어 그 진출하려고 하는나라의 역사나 문화 같은 것들을배우는 그런 뭐 이런강연 시스템 같은 것들도기획사마다 자체적으로 또 갖고 있기도하고요 사실은 뭐 최근에 그 SM같은 경우 그 우리나라에 가장 유명한학원 체인하고 그계약을 맺어서 전방위적으로 이제k팝스타들을 만들어 내겠다학원 시스템을 도입을 하겠다는이야기도 했으니까 자 그렇다면이체계적인 매니지먼트 시스템은 어떤 역량을 발휘하나?체계적인 매니지먼트 시스템 어떤역량을 이제 발휘하게 되는 겁니까광희의 이런 매니지먼트 시스템이단순히 히트곡 몇 곡에 의존하지않아도 커리어를 길게 끌고 갈 수있는 또 동력이 되기도 하고 이거자체가음악 자체 수준을 높여줍니다 특히이제 최근에 k-pop에서의anr팀들의 역량이라든지 세계적인음악 프로듀서 작곡가들과의협업을 통한 일종의 송라이팅 캠프라고하는 그런 어떤 실험적이고 체계적인제작 방식들이 영미파 혹은 일본팝과의격차가 이제는 줄어들고 사실은진정한 의미에서의 컨템포러리대중음악으로써케이팝이 자리매김하게 만드는 그런동력이 아닌가 싶습니다 자 cjen의CJ ENM ‘MCS 전략’의 성과는?mcs의 전략 어떤 성과를 내고있습니까 아무리 좋은 매니지먼트전략이라고 해도 결국은 성과가나와야지만 그런 시장에서 인정이 되는건데 cj e&m이요시스템을 통해서 미국 시장 일본시장을 앞으로 노리게 될 건데 일본시장에서는 이미 가시적인 성과가제휴원 그리고 INI 같은 그룹들이실제로 케이팝의 현지화 전략 현지오디션을 통해 발굴된 사람이라고 보는거죠 말하면스타를 수출하는 형태가 시스템블랙핑크 같은 그렇게 대표적이죠결국은 케이팝 산업이 꿈꾸고 있는 그이상향에는 우리죄의원 같은 그룹들ini가 같은 그룹들과 같이현지에서 그 현지 사람들이 좋아하는그들만의 그룹을 만드는데 있는 것이아닐까 우리로서는 한국인으로서는 사실좀 어색한 개념이긴 한데요 이것들이산업에 또 미래로 자리잡지 않을까그런 생각을 해 볼 수가 있을 것K-POP 현지화 전략을 위해 꼭 필요한 시스템은?같아요 자 그렇다면이 케이팝이현지화를 위해서 어떤 시스템이 좀구체적으로 필요할까요현지 기업들 뭐 그게 프로모션 업체배급 업체들이라든지 레코드회사라든지 우리만의 그런 어떤 그컨트롤 주도권을 놓지 않으면서상호적으로 도움이 되는 이런협업체제를 구축하는게 굉장히중요하다고 생각이 들어요 과연 미국을진출한다고 했을 때 우리 기업들이직접 뛰어들어가서 거기서 승부를보기는 어려운 실정입니다 아무리 뭐빅3 빅보라고 하는 그룹들도기업의 크기로 보면은 우리 뭐원어뮤직컬럼비아 소니뮤직 이런데 비하면은마치 뭐 좀 과장돼서 말하면 구멍가게수준의 규모를 갖고 있는데 그 와중에분명히한국이 주도권을 가져갈 수 있는 가장중요한 키는 저는이 플랫폼 산업에있다고 보여집니다 왜냐하면 이거는미국에서는 아이 시도를 못해본사람이거든요 이거에 뭐 쉽게 말하면원천 기술입니다 이거는 우리가 갖고있는 것은 분명하기 때문에 하이브가저스틴 비버나 테일러 스위프트를보유하고 있는 스쿠터 보론을 3회이사로 영입을 하면서 그의 지분을오히려 이제지주회사를 인수하는 형태그러니까 뭐 좀 과장돼서 말하면현대가 무슨 테슬라의 뭐 어디를인수했다 이런 느낌이 들잖아요요러한 부분들을 앞으로 우리가 꿈꿔볼수 있다는 생각이 들고정말 우리 기업들이글로벌 시장에 정말 안착할 수 있는그런 문화적인 뭔가 철학적인 우리가그런 걸 인문학적인준비라고 생각을 하는데 이런 것들이준비가 됐는가라는 생각은 좀들더라구요인종주의의 문제 같은 것들 요새 또관심있는 pc주의 같은 분들 이런것들이 또시대가 요구하는게 있고지역마다 요구하는게 더 달라요 사실영미문화권만 있는게 아니잖아요그래서 우리가 진짜 현지화를 꿈꾸는거라면 그 현지에 단순히팬을 내가 얼만큼 확보하겠다라는부분보다는 그 문화 안에 어떻게케이팝이 들어갈 수 있게 이런문화적인 부분까지도섬세하게 살펴볼 수 있느냐라는 부분이저는 제 개인적으로 관건이라고생각합니다 자 케이팝의 글로벌 히트클로징아티스트 개인의 재능뿐 아니라이체계적인 매니지먼트 그리고 고도화된프로듀싱으로 만들어졌다고 해도과언이 아닐 겁니다 이제는 케이팝의현재를 위해서 지금까지 쌓은 시스템을어떻게 활용하고고도할 수 있을지고민해 봐야 하는 시점에 와있습니다이 차별화된 전략과 시스템으로다양한 모습의 케이팝을 만나게 되길진심으로 기대해보겠습니다콘설팅 오늘 여기서 인사드립니다나중에 감사합니다고맙습니다[음악]한국어 (자동 생성됨)모두시리즈CJ ENM 제공관련 콘텐츠최근에 업로드된 동영상감상한 동영상 글로벌 시대의 핵심 산업으로 자리한 K-POP. 현지화를 위해선 지금까지 쌓아온 시스템을 어떻게 활용할 수 있을지 심도 있는 고민이 필요한 때다. 차별화된 전략과 시스템으로 한층 발전된 K-POP의 내일을 기대해 본다. 글로벌 시대의 핵심 산업으로 자리한 K-POP. 현지화를 위해선 지금까지 쌓아온 시스템을 어떻게 활용할 수 있을지 심도 있는 고민이 필요한 때다. 차별화된 전략과 시스템으로 한층 발전된 K-POP의 내일을 기대해 본다.\n",
            "본문 텍스트\n",
            "텍스트 복사하기\n",
            "본문 이미지\n",
            "전체 다운로드\n",
            "TAG\n",
            "#콘썰팅 #K-콘텐츠 #K-예능 #팬플랫폼 #KCON #CJ ENM #K콘텐츠 #K-POP\n",
            "POPULAR NOW\n",
            "01\n",
            "CJ 이재현 회장, 사우디 파트너십으로 그룹 미래비전 확장\n",
            "2024.09.25\n",
            "02\n",
            "[CJ뉴스룸X폴인] “제 기준 101% 일하니 성과 났죠” 올리브영 홍예진 님\n",
            "2024.09.27\n",
            "03\n",
            "CGV 현직자에게 직접 듣는 직무 이야기 [국내사업본부 & 디지털혁신담당]\n",
            "2024.09.27\n",
            "04\n",
            "글로벌 경쟁력 키우는 CJ, 해외 인재들의 ONLYONE 탐방기!\n",
            "2024.10.11\n",
            "05\n",
            "CGV 현직자에게 직접 듣는 직무 이야기 [미디어플랫폼사업본부]\n",
            "2024.09.25\n",
            "연관 콘텐츠\n",
            "<2024 MAMA AWARDS> 심사 고도화…K-POP 대표 시상식 이정표 세운다\n",
            "2024.10.10\n",
            "CJ ENM, \"크리에이터 상상력, 최고의 작품으로 빛나도록 도울 것\"\n",
            "2024.10.04\n",
            "'KCON GERMANY 2024', 유럽서 한국 문화의 소프트파워 입증하다\n",
            "2024.09.30\n",
            "CJ NEWSROOM의 새로운 소식은?\n",
            "[CGV아트하우스] 아파트가 우리를 보호할 수 있을까?\n",
            "‘동그란 스팸’, 햄일까 소시지일까?\n",
            "글로벌 경쟁력 키우는 CJ, 해외 인재들의 ONLYONE 탐방기!\n",
            "CJ대한통운, 영세 소상공인에 택배비 지원·물류역량 강화 교육 이때 K-POP 원조인 H.O.T, 핑클, 젝스키스, god 등 1세대 아이돌이 등장했다. 이중 보아와 S.E.S는 첫 해외 진출 아티스트로 꼽힌다. 2000년대 후반 활동한 2세대 아이돌들은 미국, 일본, 동남아 시장에서 인기를 얻으며 한류의 초석을 다졌다. 소녀시대, 2NE1, 원더걸스가 대표적이다.\n",
            "유튜브 플랫폼도 K-POP 글로벌화에 큰 역할을 했다. 2012년 싸이의 ‘강남스타일’이 유튜브를 통해 전 세계적으로 인기를 끌면서 글로벌시장에 K-POP의 존재를 각인시켰다.\n",
            "이후 등장한 3세대 아이돌 방탄소년단(BTS)과 블랙핑크는 K-POP의 위상을 정점으로 끌어올렸다. 글로벌 밀리언셀러를 달성하고 빌보드 핫100에 진입하는 등 기록을 세우며 K-POP을 글로벌 메인스트림으로 이끌었다.\n",
            "K-POP은 기존 음악 시장과 차별화된 매력으로 틈새시장을 공략했다. 완성도 높은 종합 예술로서의 매력이었다. K-POP은 개별 요소로 인식되던 ‘춤’과 ‘안무’를 하나의 예술 장르, ‘퍼포먼스’로 승화시켰다. 퍼포먼스를 통해 만들어진 팬들과의 유대관계도 K-POP 아티스트들만의 독보적 무기였다.\n",
            "K-POP 산업의 선두주자, CJ ENM의 핵심 전략은?\n",
            "K-POP이 하나의 장르에서 산업으로 발전하면서 시스템과 인프라의 중요성이 더 높아졌다. CJ ENM도 이런 트렌드에 맞춰 음악 기반 IP 생태계 확장 시스템인 MCS(Music Creative ecoSystem) 전략을 도입했다.\n",
            "첫번째는 K-POP 매니지먼트 시스템이다. 현 시점 K-POP 기획사들의 가장 큰 관심사는 ‘선순환 스템’이다. 과거 기획사들이 완성된 아티스트를 캐스팅하는데 그쳤다면 이제는 재능있는 원석을 발굴하고 육성해 데뷔까지 책임지는 전략적 시스템을 구축한다. 오랜 트레이닝을 거쳐 연습생이 데뷔하면 아티스트 자체가 ‘음악 IP’가 된다.\n",
            "CJ ENM의 오디션 프로그램들이 대표적인 사례다. 비공개로 진행되던 아이돌의 발굴육〮성 과정을 거침없이 공개하고 선발 과정에 팬들을 참여시키며 몰입도를 높였다.\n",
            "\n",
            "    이 뉴스레터는 이메일로 발성될거야. 스팸처럼 보이지 않도록 아래의 양식을 지켜야 해.\n",
            "\n",
            "    가이드라인에 맞춰서 적어줘.\n",
            "    1. 콘텐츠가 밝은 내용이어야 하며, 정보를 얻을 수 있고 유용해야 해.\n",
            "    2. 콘텐츠가 너무 길지 않은지 확인해야 해.\n",
            "    3. 콘텐츠는 글로벌 세계에서 kpop의 위상토픽을 잘 나타내고 있는 내용이어야 해.\n",
            "    4. 콘텐츠는 읽기 쉽게 쓰여야 하고, 간결해야 해.\n",
            "    5. 콘텐츠는 독자에게 영감을 줄 수 있어야 해.\n",
            "\n",
            "    읽기 편하게 한국어로 작성해 줘.\n",
            "\n",
            "    SUMMARY :\n",
            "    \u001b[0m\n",
            "\n",
            "\u001b[1m> Finished chain.\u001b[0m\n",
            "URLS :  ['https://cjnews.cj.net/%EA%B8%80%EB%A1%9C%EB%B2%8C-%EB%AC%B4%EB%8C%80-%EC%9A%B0%EB%9A%9D-%EC%84%A0-k-pop-%EC%84%B1%EA%B3%B5-%EB%B9%84%EA%B2%B0%EC%9D%80/', 'https://wisdomagora.com/k-pop%EC%9D%98-%EA%B8%80%EB%A1%9C%EB%B2%8C-%EC%9D%B8%EA%B8%B0%EC%99%80-%EC%84%B8%EA%B3%84%EC%A0%81-%EC%98%81%ED%96%A5%EB%A0%A5-%EC%9D%8C%EC%95%85%EA%B3%84%EB%A5%BC-%EB%84%98%EC%96%B4%EC%84%A0/', 'https://namu.wiki/w/K-POP/%ED%95%B4%EC%99%B8']\n",
            "SUMMARIZE :  K-POP은 글로벌 시장에서 성공을 거둔 주요 이유 중 하나는 시스템화된 매니지먼트와 고도화된 프로듀싱에 있다. CJ ENM의 MCS 전략은 이를 활용하여 K-POP을 더욱 발전시키고 있으며, 이를 통해 현지화 전략과 시스템을 강화하고 있습니다. 이를 통해 K-POP은 다양한 모습으로 세계적으로 인정받을 수 있을 것으로 기대됩니다.\n"
          ]
        }
      ],
      "source": [
        "query = '글로벌 세계에서 kpop의 위상'\n",
        "\n",
        "search_result = search_serp(query)\n",
        "urls = pick_best_articles_urls(response_json=search_result, query=query)\n",
        "data = extract_content_from_urls(urls)\n",
        "summaries = summarizer(db=data, query=query)\n",
        "\n",
        "print(\"URLS : \",  urls)\n",
        "print(\"SUMMARIZE : \" , summaries)"
      ]
    }
  ],
  "metadata": {
    "colab": {
      "provenance": []
    },
    "kernelspec": {
      "display_name": "Python 3",
      "name": "python3"
    },
    "language_info": {
      "codemirror_mode": {
        "name": "ipython",
        "version": 3
      },
      "file_extension": ".py",
      "mimetype": "text/x-python",
      "name": "python",
      "nbconvert_exporter": "python",
      "pygments_lexer": "ipython3",
      "version": "3.10.15"
    }
  },
  "nbformat": 4,
  "nbformat_minor": 0
}
